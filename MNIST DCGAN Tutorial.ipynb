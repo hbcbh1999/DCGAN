{
 "cells": [
  {
   "cell_type": "markdown",
   "metadata": {},
   "source": [
    "# Generative Adversarial Network Tutorial 01"
   ]
  },
  {
   "cell_type": "markdown",
   "metadata": {},
   "source": [
    "If you haven't looked at the previous tutorial, definitely check that out first!"
   ]
  },
  {
   "cell_type": "markdown",
   "metadata": {},
   "source": [
    "In this tutorial, I'll extend the previous work to use more sophisticated networks.  In particular, I'll make the generator a deep convolutional network, and leave the discriminator as a shallow fully connected network.  This ought to produce much better digits that the previous fully connected networks."
   ]
  },
  {
   "cell_type": "markdown",
   "metadata": {},
   "source": [
    "## MNIST data set"
   ]
  },
  {
   "cell_type": "markdown",
   "metadata": {},
   "source": [
    "Again, we'll use the mnist data set here.  See the previous tutorial for some mnist basics."
   ]
  },
  {
   "cell_type": "code",
   "execution_count": 1,
   "metadata": {},
   "outputs": [
    {
     "name": "stdout",
     "output_type": "stream",
     "text": [
      "env: CUDA_DEVICE_ORDER=PCI_BUS_ID\n",
      "env: CUDA_VISIBLE_DEVICES=1\n"
     ]
    }
   ],
   "source": [
    "%env CUDA_DEVICE_ORDER=PCI_BUS_ID\n",
    "%env CUDA_VISIBLE_DEVICES=1\n",
    "import tensorflow as tf\n",
    "import numpy\n",
    "from tensorflow.examples.tutorials.mnist import input_data"
   ]
  },
  {
   "cell_type": "markdown",
   "metadata": {},
   "source": [
    "With tensorflow, you can specify which device to use.  The next cell will tell you what's available, and you can select from there.  By default, I select \"/gpu:0\" but you can change this below"
   ]
  },
  {
   "cell_type": "code",
   "execution_count": 2,
   "metadata": {},
   "outputs": [
    {
     "name": "stdout",
     "output_type": "stream",
     "text": [
      "[name: \"/cpu:0\"\n",
      "device_type: \"CPU\"\n",
      "memory_limit: 268435456\n",
      "locality {\n",
      "}\n",
      "incarnation: 17879638355642228747\n",
      ", name: \"/gpu:0\"\n",
      "device_type: \"GPU\"\n",
      "memory_limit: 11990623847\n",
      "locality {\n",
      "  bus_id: 1\n",
      "}\n",
      "incarnation: 5354604161520709298\n",
      "physical_device_desc: \"device: 0, name: TITAN X (Pascal), pci bus id: 0000:02:00.0\"\n",
      "]\n"
     ]
    }
   ],
   "source": [
    "from tensorflow.python.client import device_lib\n",
    "print device_lib.list_local_devices()\n",
    "default_device = \"/gpu:0\""
   ]
  },
  {
   "cell_type": "code",
   "execution_count": null,
   "metadata": {
    "collapsed": true
   },
   "outputs": [],
   "source": []
  },
  {
   "cell_type": "code",
   "execution_count": 3,
   "metadata": {},
   "outputs": [
    {
     "name": "stdout",
     "output_type": "stream",
     "text": [
      "Extracting MNIST_data/train-images-idx3-ubyte.gz\n",
      "Extracting MNIST_data/train-labels-idx1-ubyte.gz\n",
      "Extracting MNIST_data/t10k-images-idx3-ubyte.gz\n",
      "Extracting MNIST_data/t10k-labels-idx1-ubyte.gz\n"
     ]
    }
   ],
   "source": [
    "mnist = input_data.read_data_sets(\"MNIST_data\", one_hot=False)"
   ]
  },
  {
   "cell_type": "code",
   "execution_count": 4,
   "metadata": {
    "collapsed": true
   },
   "outputs": [],
   "source": [
    "mnist_images, mnist_labels = mnist.train.next_batch(batch_size=5)"
   ]
  },
  {
   "cell_type": "markdown",
   "metadata": {},
   "source": [
    "## Building a model for a GAN"
   ]
  },
  {
   "cell_type": "markdown",
   "metadata": {},
   "source": [
    "We'll start to put together a network for the GAN, first by defining some useful constants that we'll need to call on multiple times:"
   ]
  },
  {
   "cell_type": "code",
   "execution_count": 40,
   "metadata": {
    "collapsed": true
   },
   "outputs": [],
   "source": [
    "BASE_LEARNING_RATE = 0.00005\n",
    "BATCH_SIZE=100 # Keep this even\n",
    "N_INITIAL_FILTERS=1024\n",
    "LOGDIR=\"./mnist_dcgan_logs/filters_{}_lr_{}\".format(N_INITIAL_FILTERS, BASE_LEARNING_RATE)\n",
    "RESTORE=False\n",
    "TRAINING=False\n"
   ]
  },
  {
   "cell_type": "markdown",
   "metadata": {},
   "source": [
    "Additionally, let's make sure we have the same graph by defining it:"
   ]
  },
  {
   "cell_type": "code",
   "execution_count": 41,
   "metadata": {
    "collapsed": true
   },
   "outputs": [],
   "source": [
    "tf.reset_default_graph()\n",
    "g = tf.Graph()"
   ]
  },
  {
   "cell_type": "markdown",
   "metadata": {},
   "source": [
    "Set up the placeholders for the input variables.  We'll need to input both real images and random noise, so make a placeholder for both.  Additionally, based on this blog post (http://www.inference.vc/instance-noise-a-trick-for-stabilising-gan-training/) I add random gaussian noise to the real and fake images as they are fed to the discriminator to help stabalize training.  \n",
    "\n"
   ]
  },
  {
   "cell_type": "code",
   "execution_count": 42,
   "metadata": {
    "collapsed": true
   },
   "outputs": [],
   "source": [
    "with tf.device(default_device):\n",
    "    with g.as_default():\n",
    "        # Input noise to the generator:\n",
    "        noise_tensor = tf.placeholder(tf.float32, [None, 10*10], name=\"noise\")\n",
    "#         fake_input   = tf.reshape(noise_tensor, (tf.shape(noise_tensor)[0], 10,10, 1))\n",
    "        fake_input   = noise_tensor\n",
    "    \n",
    "\n",
    "        # Placeholder for the discriminator input:\n",
    "        real_flat  = tf.placeholder(tf.float32, [None, 784], name='x')\n",
    "        real_images  = tf.reshape(real_flat, (tf.shape(real_flat)[0], 28, 28, 1))\n",
    "\n",
    "        # We augment the input to the discriminator with gaussian noise\n",
    "        # This makes it harder for the discriminator to do it's job, preventing\n",
    "        # it from always \"winning\" the GAN min/max contest\n",
    "        real_noise = tf.placeholder(tf.float32, [None, 28, 28, 1], name=\"real_noise\")\n",
    "        fake_noise = tf.placeholder(tf.float32, [None, 28, 28, 1], name=\"fake_noise\")\n",
    "\n",
    "        real_images = real_noise + real_images\n"
   ]
  },
  {
   "cell_type": "markdown",
   "metadata": {},
   "source": [
    "Notice how the input tensors (noise_tensor, real_images) are shaped in the 'flattened' way: (N/2, 100) for noise, (N/2, 784) for real images.  This lets me input the mnist images directly to tensorflow, as well as the noise.  They are then reshaped to be like tensorflow images (Batch, H, W, Filters)."
   ]
  },
  {
   "cell_type": "markdown",
   "metadata": {},
   "source": [
    "### Image Discriminator:"
   ]
  },
  {
   "cell_type": "markdown",
   "metadata": {},
   "source": [
    "Make a function to build the discriminator, using fully connected networks.  Note that a convolutional layer with the stride equal to the image size *is* a fully connected layer.\n",
    "\n",
    "This is unchanged from the previous tutorial."
   ]
  },
  {
   "cell_type": "code",
   "execution_count": 44,
   "metadata": {},
   "outputs": [],
   "source": [
    "def build_discriminator(input_tensor, is_training=True, reuse=False):\n",
    "    # Use scoping to keep the variables nicely organized in the graph.\n",
    "    # Scoping is good practice always, but it's *essential* here as we'll see later on\n",
    "    with tf.variable_scope(\"mnist_discriminator\", reuse=reuse):\n",
    "\n",
    "        # Downsample with strided convolutions, use a few layers of convolutions:\n",
    "        x = tf.layers.conv2d(input_tensor,\n",
    "                             32,\n",
    "                             kernel_size = [5,5],\n",
    "                             strides=(1, 1),\n",
    "                             padding='valid',)\n",
    "        \n",
    "        # Batch norm, relu:\n",
    "        x = tf.layers.batch_normalization(x,\n",
    "                                          training=is_training,\n",
    "                                          trainable=True,\n",
    "                                          name=\"batch_norm_1\")\n",
    "        \n",
    "        x = tf.nn.relu(x)\n",
    "        \n",
    "        # Downsample convolution with stride 2:\n",
    "        x = tf.layers.conv2d(x,\n",
    "                             64,\n",
    "                             kernel_size=[3,3],\n",
    "                             strides=[2,2],\n",
    "                             padding='valid',\n",
    "                             name=\"conv2d_downsample_1\")\n",
    "        \n",
    "        # Batch norm, relu:\n",
    "        x = tf.layers.batch_normalization(x,\n",
    "                                          training=is_training,\n",
    "                                          trainable=True,\n",
    "                                          name=\"batch_norm_2\")\n",
    "        \n",
    "        x = tf.nn.relu(x)\n",
    "        \n",
    "        # Downsample convolution with stride 2:\n",
    "        x = tf.layers.conv2d(x,\n",
    "                             128,\n",
    "                             kernel_size=[3,3],\n",
    "                             strides=[2,2],\n",
    "                             padding='valid',\n",
    "                             name=\"conv2d_downsample_2\")\n",
    "        \n",
    "        \n",
    "        # Apply a 1x1 convolutoin and do global average pooling:\n",
    "        x = tf.layers.batch_normalization(x,\n",
    "                                          training=is_training,\n",
    "                                          trainable=True,\n",
    "                                          name=\"batch_norm_3\")\n",
    "        \n",
    "        x = tf.nn.relu(x)\n",
    "        \n",
    "        x = tf.layers.conv2d(x,\n",
    "                             1,\n",
    "                             kernel_size=[1,1],\n",
    "                             strides=[1,1],\n",
    "                             padding='valid',\n",
    "                             name=\"conv2d1x1_downsample\")\n",
    "        \n",
    "                                          \n",
    "        # Pooling operation:\n",
    "        x = tf.layers.average_pooling2d(x,\n",
    "                                        pool_size=[5,5],\n",
    "                                        strides=[1,1],\n",
    "                                        name ='final_pooling')\n",
    "        \n",
    "        \n",
    "            \n",
    "        # Since we want to predict \"real\" or \"fake\", an output of 0 or 1 is desired.  sigmoid is perfect for this:\n",
    "        x = tf.nn.sigmoid(x, name=\"discriminator_sigmoid\")\n",
    "        #Reshape this to bring it down to just one output per image:\n",
    "        x = tf.reshape(x, (-1,))\n",
    "        return x"
   ]
  },
  {
   "cell_type": "code",
   "execution_count": 45,
   "metadata": {
    "collapsed": true
   },
   "outputs": [],
   "source": [
    "with tf.device(default_device):\n",
    "    with g.as_default():\n",
    "        real_image_logits = build_discriminator(real_images, is_training=TRAINING, reuse=False)"
   ]
  },
  {
   "cell_type": "code",
   "execution_count": 46,
   "metadata": {},
   "outputs": [
    {
     "name": "stdout",
     "output_type": "stream",
     "text": [
      "(?,)\n"
     ]
    }
   ],
   "source": [
    "print real_image_logits.get_shape()"
   ]
  },
  {
   "cell_type": "markdown",
   "metadata": {},
   "source": [
    "Now we can define a function to generate random images from noise:\n",
    "\n",
    "This function has been transformed into a deeper convolutional neural network."
   ]
  },
  {
   "cell_type": "code",
   "execution_count": 47,
   "metadata": {
    "collapsed": true
   },
   "outputs": [],
   "source": [
    "def build_generator(input_tensor, n_initial_filters=512, is_training=True):\n",
    "    # Again, scoping is essential here:\n",
    "    with tf.variable_scope(\"mnist_generator\"):\n",
    "\n",
    "        # Map the input vector to the first convolutional space:\n",
    "        # It's 10x10x1, we want to get to 4x4x512\n",
    "        x = tf.layers.dense(input_tensor, 4*4*n_initial_filters, name=\"project\")\n",
    "        print x.get_shape()\n",
    "        x = tf.reshape(x, (-1, 4, 4, n_initial_filters), name=\"reshape\")\n",
    "        \n",
    "        print x.get_shape()\n",
    "        \n",
    "        # Apply batch norm, relu, and upsampling:\n",
    "        x = tf.layers.batch_normalization(x,\n",
    "                                center=False,\n",
    "                                scale=False,\n",
    "                                training=True,\n",
    "                                trainable=True,\n",
    "                                name=\"batch_norm_1\")\n",
    "        \n",
    "        x = tf.nn.relu(x, name=\"relu_1\")\n",
    "\n",
    "        # Upsample with a transposed convolution:\n",
    "        x = tf.layers.conv2d_transpose(x,\n",
    "                                       int(0.5*n_initial_filters),\n",
    "                                       kernel_size=[2,2],\n",
    "                                       strides=(2, 2),\n",
    "                                       name=\"conv2d_transpose_1\")\n",
    "\n",
    "        # Apply batch norm, relu, and upsampling again:\n",
    "        x = tf.layers.batch_normalization(x,\n",
    "                                center=False,\n",
    "                                scale=False,\n",
    "                                training=True,\n",
    "                                trainable=True,\n",
    "                                name=\"batch_norm_2\")\n",
    "        \n",
    "        x = tf.nn.relu(x, name=\"relu_2\")\n",
    "        \n",
    "        # Upsample with a transposed convolution:\n",
    "        x = tf.layers.conv2d_transpose(x,\n",
    "                                       int(0.25*n_initial_filters),\n",
    "                                       kernel_size=[2,2],\n",
    "                                       strides=(2, 2),\n",
    "                                       name=\"conv2d_transpose_2\")\n",
    "                                    \n",
    "        \n",
    "        # Apply batch norm, relu, and upsampling again:\n",
    "        x = tf.layers.batch_normalization(x,\n",
    "                                center=False,\n",
    "                                scale=False,\n",
    "                                training=True,\n",
    "                                trainable=True,\n",
    "                                name=\"batch_norm_3\")\n",
    "        \n",
    "        x = tf.nn.relu(x, name=\"relu_3\")\n",
    "                           \n",
    "        # Upsample with a transposed convolution:\n",
    "        x = tf.layers.conv2d_transpose(x,\n",
    "                                       int(0.125*n_initial_filters),\n",
    "                                       kernel_size=[2,2],\n",
    "                                       strides=(2, 2),\n",
    "                                       name=\"conv2d_transpose_3\")\n",
    "\n",
    "        # Apply batch norm, relu, and upsampling again:\n",
    "        x = tf.layers.batch_normalization(x,\n",
    "                                center=False,\n",
    "                                scale=False,\n",
    "                                training=True,\n",
    "                                trainable=True,\n",
    "                                name=\"batch_norm_4\")\n",
    "        \n",
    "        x = tf.nn.relu(x, name=\"relu_4\")\n",
    "        \n",
    "        # Map the space onto a 28x28x1 region:\n",
    "        x = tf.layers.conv2d(x,\n",
    "                             1,\n",
    "                             kernel_size=[5,5],\n",
    "                             strides=[1,1],\n",
    "                             name=\"final_conv2d\")\n",
    "        \n",
    "         \n",
    "        # The final non linearity applied here is to map the images onto the [-1,1] range.\n",
    "        x = tf.nn.tanh(x, name=\"generator_tanh\")\n",
    "        return x"
   ]
  },
  {
   "cell_type": "code",
   "execution_count": 48,
   "metadata": {},
   "outputs": [
    {
     "name": "stdout",
     "output_type": "stream",
     "text": [
      "(?, 16384)\n",
      "(?, 4, 4, 1024)\n"
     ]
    }
   ],
   "source": [
    "with tf.device(default_device):\n",
    "    with g.as_default():\n",
    "        fake_images = build_generator(fake_input, n_initial_filters=N_INITIAL_FILTERS, is_training=TRAINING) + fake_noise"
   ]
  },
  {
   "cell_type": "code",
   "execution_count": 49,
   "metadata": {},
   "outputs": [
    {
     "name": "stdout",
     "output_type": "stream",
     "text": [
      "(?, 28, 28, 1)\n",
      "(?, 100)\n"
     ]
    }
   ],
   "source": [
    "print fake_noise.get_shape()\n",
    "print fake_input.get_shape()"
   ]
  },
  {
   "cell_type": "markdown",
   "metadata": {},
   "source": [
    "We also need to be able to run the discriminator on the fake images, so set that up too.  Since it trains on both real and fake images, set reuse=True here:"
   ]
  },
  {
   "cell_type": "code",
   "execution_count": 50,
   "metadata": {
    "collapsed": true
   },
   "outputs": [],
   "source": [
    "with tf.device(default_device):\n",
    "    with g.as_default():\n",
    "        fake_image_logits = build_discriminator(fake_images, reuse=True)"
   ]
  },
  {
   "cell_type": "markdown",
   "metadata": {},
   "source": [
    "### Loss functions"
   ]
  },
  {
   "cell_type": "markdown",
   "metadata": {},
   "source": [
    "We can now define our loss functions.  Note that we have to define the loss function for the generator and discriminator seperately:"
   ]
  },
  {
   "cell_type": "code",
   "execution_count": 15,
   "metadata": {
    "collapsed": true
   },
   "outputs": [],
   "source": [
    "with tf.device(default_device):\n",
    "    # Build the loss functions:\n",
    "    with g.as_default():\n",
    "        with tf.name_scope(\"cross_entropy\") as scope:\n",
    "\n",
    "            #Discriminator loss on real images (classify as 1):\n",
    "            d_loss_total = -tf.reduce_mean(tf.log(real_image_logits) + tf.log(1. - fake_image_logits))\n",
    "\n",
    "            # This is the adverserial step: g_loss tries to optimize fake_logits to one,\n",
    "            # While d_loss_fake tries to optimize fake_logits to zero.\n",
    "            g_loss = -tf.reduce_mean(tf.log(fake_image_logits))\n",
    "\n",
    "            # This code is useful if you'll use tensorboard to monitor training:\n",
    "#             d_loss_summary = tf.summary.scalar(\"Discriminator_Real_Loss\", d_loss_real)\n",
    "#             d_loss_summary = tf.summary.scalar(\"Discriminator_Fake_Loss\", d_loss_fake)\n",
    "            d_loss_summary = tf.summary.scalar(\"Discriminator_Total_Loss\", d_loss_total)\n",
    "            d_loss_summary = tf.summary.scalar(\"Generator_Loss\", g_loss)\n"
   ]
  },
  {
   "cell_type": "markdown",
   "metadata": {},
   "source": [
    "It's also useful to compute accuracy, just to see how the training is going:"
   ]
  },
  {
   "cell_type": "code",
   "execution_count": 16,
   "metadata": {
    "collapsed": true
   },
   "outputs": [],
   "source": [
    "with tf.device(default_device):\n",
    "    with g.as_default():\n",
    "        with tf.name_scope(\"accuracy\") as scope:\n",
    "            # Compute the discriminator accuracy on real data, fake data, and total:\n",
    "            accuracy_real  = tf.reduce_mean(tf.cast(tf.equal(tf.round(real_image_logits), \n",
    "                                                             tf.ones_like(real_image_logits)), \n",
    "                                                    tf.float32))\n",
    "            accuracy_fake  = tf.reduce_mean(tf.cast(tf.equal(tf.round(fake_image_logits), \n",
    "                                                             tf.zeros_like(fake_image_logits)), \n",
    "                                                    tf.float32))\n",
    "\n",
    "            total_accuracy = 0.5*(accuracy_fake +  accuracy_real)\n",
    "\n",
    "            # Again, useful for tensorboard:\n",
    "            acc_real_summary = tf.summary.scalar(\"Real_Accuracy\", accuracy_real)\n",
    "            acc_real_summary = tf.summary.scalar(\"Fake_Accuracy\", accuracy_fake)\n",
    "            acc_real_summary = tf.summary.scalar(\"Total_Accuracy\", total_accuracy)"
   ]
  },
  {
   "cell_type": "markdown",
   "metadata": {},
   "source": [
    "### Independant Optimizers"
   ]
  },
  {
   "cell_type": "markdown",
   "metadata": {},
   "source": [
    "To allow the generator and discriminator to compete and update seperately, we use two distinct optimizers.  This step is why it was essential earlier to have the scopes different for the generator and optimizer: we can select all variables in each scope to go to their own optimizer.  So, even though the generator loss calculation runs the discriminator, the update step for the generator **only** affects the variables inside the generator"
   ]
  },
  {
   "cell_type": "code",
   "execution_count": 17,
   "metadata": {
    "collapsed": true
   },
   "outputs": [],
   "source": [
    "with tf.device(default_device):\n",
    "    with g.as_default():\n",
    "        with tf.name_scope(\"training\") as scope:\n",
    "            # Global steps are useful for restoring training:\n",
    "            global_step = tf.Variable(0, dtype=tf.int32, trainable=False, name='global_step')\n",
    "\n",
    "            # Make sure the optimizers are only operating on their own variables:\n",
    "\n",
    "            all_variables      = tf.trainable_variables()\n",
    "            discriminator_vars = [v for v in all_variables if v.name.startswith('mnist_discriminator/')]\n",
    "            generator_vars     = [v for v in all_variables if v.name.startswith('mnist_generator/')]\n",
    "\n",
    "\n",
    "            discriminator_optimizer = tf.train.AdamOptimizer(BASE_LEARNING_RATE, 0.9).minimize(\n",
    "                d_loss_total, global_step=global_step, var_list=discriminator_vars)\n",
    "            generator_optimizer     = tf.train.AdamOptimizer(BASE_LEARNING_RATE, 0.9).minimize(\n",
    "                g_loss, global_step=global_step, var_list=generator_vars)\n"
   ]
  },
  {
   "cell_type": "markdown",
   "metadata": {},
   "source": [
    "### Image snapshots"
   ]
  },
  {
   "cell_type": "markdown",
   "metadata": {},
   "source": [
    "It's useful to snapshot images into tensorboard to see how things are going, as well:"
   ]
  },
  {
   "cell_type": "code",
   "execution_count": 18,
   "metadata": {
    "collapsed": true
   },
   "outputs": [],
   "source": [
    "with tf.device(default_device):\n",
    "    with g.as_default():\n",
    "        tf.summary.image('fake_images', fake_images, max_outputs=4)\n",
    "        tf.summary.image('real_images', real_images, max_outputs=4)\n"
   ]
  },
  {
   "cell_type": "markdown",
   "metadata": {},
   "source": [
    "## Training the networks"
   ]
  },
  {
   "cell_type": "markdown",
   "metadata": {},
   "source": [
    "There are lots of philosophys on training GANs.  Here, we'll do something simple and just alternate updates. To save the network and keep track of training variables, set up a summary writer:"
   ]
  },
  {
   "cell_type": "code",
   "execution_count": 19,
   "metadata": {
    "collapsed": true
   },
   "outputs": [],
   "source": [
    "with tf.device(default_device):\n",
    "    with g.as_default():\n",
    "        merged_summary = tf.summary.merge_all()\n",
    "\n",
    "        # Set up a saver:\n",
    "        train_writer = tf.summary.FileWriter(LOGDIR)"
   ]
  },
  {
   "cell_type": "markdown",
   "metadata": {},
   "source": [
    "Set up a session for training using an interactive session:"
   ]
  },
  {
   "cell_type": "code",
   "execution_count": null,
   "metadata": {},
   "outputs": [],
   "source": [
    "with tf.device(default_device):\n",
    "    with g.as_default():\n",
    "        sess = tf.InteractiveSession()\n",
    "        if not RESTORE:\n",
    "            sess.run(tf.global_variables_initializer())\n",
    "            train_writer.add_graph(sess.graph)\n",
    "            saver = tf.train.Saver()\n",
    "        else: \n",
    "            latest_checkpoint = tf.train.latest_checkpoint(LOGDIR+\"/checkpoints/\")\n",
    "            print \"Restoring model from {}\".format(latest_checkpoint)\n",
    "            saver = tf.train.Saver()\n",
    "            saver.restore(sess, latest_checkpoint)\n",
    "\n",
    "\n",
    "\n",
    "        print \"Begin training ...\"\n",
    "        # Run training loop\n",
    "        for i in xrange(50000):\n",
    "            step = sess.run(global_step)\n",
    "\n",
    "            # Receive data (this will hang if IO thread is still running = this\n",
    "            # will wait for thread to finish & receive data)\n",
    "            epoch = (1.0*i*BATCH_SIZE) / 60000.\n",
    "#             sigma = max(0.75*(10. - epoch) / (10), 0.05)\n",
    "            \n",
    "            # Update the generator:\n",
    "            # Prepare the input to the networks:\n",
    "            fake_input = numpy.random.normal(loc=0, scale=1, size=(BATCH_SIZE, 100))\n",
    "            real_data, label = mnist.train.next_batch(BATCH_SIZE)\n",
    "            real_data = 2*(real_data - 0.5)\n",
    "#             real_noise_addition = numpy.random.normal(scale=sigma,size=(BATCH_SIZE,28*28))\n",
    "#             fake_noise_addition = numpy.random.normal(scale=sigma,size=(BATCH_SIZE,28*28))\n",
    "\n",
    "            real_noise_addition = numpy.zeros((BATCH_SIZE, 28,28, 1))\n",
    "            fake_noise_addition = numpy.zeros((BATCH_SIZE, 28,28, 1))\n",
    "\n",
    "            # Update the discriminator:\n",
    "            [generated_mnist, _] = sess.run([fake_images, \n",
    "                                            discriminator_optimizer], \n",
    "                                            feed_dict = {noise_tensor : fake_input,\n",
    "                                                         real_flat : real_data,\n",
    "                                                         real_noise: real_noise_addition,\n",
    "                                                         fake_noise: fake_noise_addition})\n",
    "\n",
    "            # Update the generator:\n",
    "            fake_input = numpy.random.normal(loc=0, scale=1, size=(BATCH_SIZE, 100))\n",
    "#             real_data, label = mnist.train.next_batch(BATCH_SIZE)\n",
    "#             real_data = 2*(real_data - 0.5)\n",
    "#             real_noise_addition = numpy.random.normal(scale=sigma,size=(BATCH_SIZE,28*28))\n",
    "#             fake_noise_addition = numpy.random.normal(scale=sigma,size=(BATCH_SIZE,28*28))\n",
    "            fake_noise_addition = numpy.zeros((BATCH_SIZE, 28, 28, 1))\n",
    "\n",
    "            \n",
    "            [ _ ] = sess.run([generator_optimizer], \n",
    "                feed_dict = {noise_tensor: fake_input,\n",
    "                             real_flat : real_data,\n",
    "                             real_noise: real_noise_addition,\n",
    "                             fake_noise: fake_noise_addition})\n",
    "            \n",
    "            # Run a summary step:\n",
    "            [summary, g_l, d_l, acc] = sess.run(\n",
    "                [merged_summary, g_loss, d_loss_total, total_accuracy],\n",
    "                feed_dict = {noise_tensor : fake_input,\n",
    "                             real_flat : real_data,\n",
    "                             real_noise: real_noise_addition,\n",
    "                             fake_noise: fake_noise_addition})\n",
    "\n",
    "\n",
    "            train_writer.add_summary(summary, step)\n",
    "\n",
    "            if step != 0 and step % 500 == 0:\n",
    "                saver.save(\n",
    "                    sess,\n",
    "                    LOGDIR+\"/checkpoints/save\",\n",
    "                    global_step=step)\n",
    "\n",
    "\n",
    "            # train_writer.add_summary(summary, i)\n",
    "            # sys.stdout.write('Training in progress @ step %d\\n' % (step))\n",
    "            if step % 50 == 0:\n",
    "                print 'Training in progress @ epoch %g, g_loss %g, d_loss %g accuracy %g' % (epoch, g_l, d_l, acc)\n"
   ]
  },
  {
   "cell_type": "markdown",
   "metadata": {},
   "source": [
    "As a last step, let's load this network back into memory and generate a few fake images for visualization.  As you'll see, this network does \"OK\" but not amazingly well.  In the next post, we'll see a deep convolutional network that does much better at generating images."
   ]
  },
  {
   "cell_type": "code",
   "execution_count": 51,
   "metadata": {},
   "outputs": [
    {
     "name": "stdout",
     "output_type": "stream",
     "text": [
      "Restoring model from ./mnist_dcgan_logs/filters_1024_lr_5e-05/checkpoints/save-99500\n",
      "INFO:tensorflow:Restoring parameters from ./mnist_dcgan_logs/filters_1024_lr_5e-05/checkpoints/save-99500\n"
     ]
    }
   ],
   "source": [
    "with tf.device(default_device):\n",
    "    with g.as_default():\n",
    "        sess = tf.InteractiveSession()\n",
    "        latest_checkpoint = tf.train.latest_checkpoint(LOGDIR+\"/checkpoints/\")\n",
    "        print \"Restoring model from {}\".format(latest_checkpoint)\n",
    "        saver = tf.train.Saver()\n",
    "        saver.restore(sess, latest_checkpoint)\n",
    "\n",
    "\n",
    "        # We only need to make fake data and run it through the 'fake_images' tensor to see the output:\n",
    "        \n",
    "        fake_input = numpy.random.normal(loc=0, scale=1, size=(BATCH_SIZE, 100))\n",
    "        fake_noise_addition = numpy.zeros((BATCH_SIZE, 28, 28,1))\n",
    "\n",
    "        [generated_images] = sess.run(\n",
    "                [fake_images], \n",
    "                feed_dict = {noise_tensor: fake_input,\n",
    "                            fake_noise: fake_noise_addition})\n"
   ]
  },
  {
   "cell_type": "markdown",
   "metadata": {},
   "source": [
    "Reshape to make it easier to draw:"
   ]
  },
  {
   "cell_type": "code",
   "execution_count": 52,
   "metadata": {
    "collapsed": true
   },
   "outputs": [],
   "source": [
    "generated_images = numpy.reshape(generated_images, (-1, 28, 28))"
   ]
  },
  {
   "cell_type": "code",
   "execution_count": 55,
   "metadata": {
    "collapsed": true
   },
   "outputs": [],
   "source": [
    "import matplotlib.pyplot as plt\n",
    "%matplotlib inline"
   ]
  },
  {
   "cell_type": "code",
   "execution_count": 56,
   "metadata": {},
   "outputs": [
    {
     "data": {
      "image/png": "[encoded data removed]",
      "text/plain": [
       "<matplotlib.figure.Figure at 0x7fc4d6b04110>"
      ]
     },
     "metadata": {},
     "output_type": "display_data"
    }
   ],
   "source": [
    "\n",
    "# Tile together lots of digits to see how the network is doing:\n",
    "final_image = numpy.zeros((280, 280))\n",
    "for i in range(10):\n",
    "    for j in range(10):\n",
    "        index = numpy.random.randint(BATCH_SIZE)\n",
    "        final_image[i*28:(i+1)*28, j*28:(j+1)*28] = generated_images[index].reshape(28, 28)\n",
    "        \n",
    "fig = plt.figure(figsize=(10,10))\n",
    "plt.imshow(final_image, cmap=\"Greys\", interpolation=\"none\")\n",
    "plt.show()"
   ]
  },
  {
   "cell_type": "markdown",
   "metadata": {},
   "source": [
    "Once again, it's just OK. I still think we can do better, but at least it's a demonstration of DCGAN."
   ]
  }
 ],
 "metadata": {
  "kernelspec": {
   "display_name": "Python 2",
   "language": "python",
   "name": "python2"
  },
  "language_info": {
   "codemirror_mode": {
    "name": "ipython",
    "version": 2
   },
   "file_extension": ".py",
   "mimetype": "text/x-python",
   "name": "python",
   "nbconvert_exporter": "python",
   "pygments_lexer": "ipython2",
   "version": "2.7.6"
  }
 },
 "nbformat": 4,
 "nbformat_minor": 2
}
