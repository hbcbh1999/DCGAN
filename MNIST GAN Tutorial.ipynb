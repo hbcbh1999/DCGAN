{
 "cells": [
  {
   "cell_type": "markdown",
   "metadata": {},
   "source": [
    "# Generative Adversarial Network Tutorial 00"
   ]
  },
  {
   "cell_type": "markdown",
   "metadata": {},
   "source": [
    "In particle physics, Generative Adversarial Networks hold a lot of promise for studying data/MC differences.  In principle, the physics tools used for simulation of particle interaction data are quite good, but they are never perfect.  Additionally, they are always imperfect in difficult to model ways.  Many experiments spend a lot of time studying the differences between the output of their simulation and their real detector data, and a deep network that can learn these differences is really useful for making progress."
   ]
  },
  {
   "cell_type": "markdown",
   "metadata": {},
   "source": [
    "In this tutorial, I'll cover some basics of generative adversarial networks with very simple feed-forward neural networks (not even convolutional) as a demonstration of the basic techniques of GANs.  You can read the original paper on GANs here: https://arxiv.org/abs/1406.2661.  The basic idea is you train two networks to compete with each other.  The first (called the discriminator) makes a decision on whether or not the images it's looking at are real or fake.  The second (called the generator) tries to generate fake images from random noise to fool the discriminator."
   ]
  },
  {
   "cell_type": "markdown",
   "metadata": {},
   "source": [
    "In the years since the original paper came out, GANs have grown increasinly more sophisticated and impressive, especially with the advent of the Deep Convolutional Generative Adversarial Network (DCGAN, original paper: https://arxiv.org/abs/1511.06434).  For this tutorial, we're going to eschew all of the recent advances to make a GAN that can generate artificial digits based on the mnist data set.  By stripping the networks down to their basics, it's easier to focus on the core aspects of the loss function and outputs, and to avoid the complications of training on GPUs, etc."
   ]
  },
  {
   "cell_type": "markdown",
   "metadata": {},
   "source": [
    "## MNIST data set"
   ]
  },
  {
   "cell_type": "markdown",
   "metadata": {},
   "source": [
    "The mnist data set is one of the most famous collections of labeled images that exists.  You can read all about it at the original website (http://yann.lecun.com/exdb/mnist/), but it has a few nice advantages that make it ideal for learning:\n",
    " * It's open, and has convient wrappers in many languages (we'll use tensorflows soon)\n",
    " * It's a large data set (60k training images) but each image is small (28x28)\n",
    " * The data has been preprocessed to center images of digits and make them easier to use\n",
    " \n",
    "Basically, you can focus on the fundamentals with this data set, which is why we'll use it here.  Some examples of loading it with tensorflow (more here: https://www.tensorflow.org/get_started/mnist/beginners)"
   ]
  },
  {
   "cell_type": "code",
   "execution_count": 1,
   "metadata": {},
   "outputs": [
    {
     "name": "stdout",
     "output_type": "stream",
     "text": [
      "env: CUDA_DEVICE_ORDER=PCI_BUS_ID\n",
      "env: CUDA_VISIBLE_DEVICES=0\n"
     ]
    }
   ],
   "source": [
    "%env CUDA_DEVICE_ORDER=PCI_BUS_ID\n",
    "%env CUDA_VISIBLE_DEVICES=0\n",
    "import tensorflow as tf\n",
    "import numpy\n",
    "from tensorflow.examples.tutorials.mnist import input_data"
   ]
  },
  {
   "cell_type": "markdown",
   "metadata": {},
   "source": [
    "With tensorflow, you can specify which device to use.  The next cell will tell you what's available, and you can select from there.  By default, I select \"/gpu:0\" but you can change this below"
   ]
  },
  {
   "cell_type": "code",
   "execution_count": 2,
   "metadata": {},
   "outputs": [
    {
     "name": "stdout",
     "output_type": "stream",
     "text": [
      "[name: \"/cpu:0\"\n",
      "device_type: \"CPU\"\n",
      "memory_limit: 268435456\n",
      "locality {\n",
      "}\n",
      "incarnation: 6011755984075066403\n",
      ", name: \"/gpu:0\"\n",
      "device_type: \"GPU\"\n",
      "memory_limit: 11946606592\n",
      "locality {\n",
      "  bus_id: 1\n",
      "}\n",
      "incarnation: 842419304665988153\n",
      "physical_device_desc: \"device: 0, name: TITAN X (Pascal), pci bus id: 0000:01:00.0\"\n",
      "]\n"
     ]
    }
   ],
   "source": [
    "from tensorflow.python.client import device_lib\n",
    "print device_lib.list_local_devices()\n",
    "default_device = \"/gpu:0\""
   ]
  },
  {
   "cell_type": "code",
   "execution_count": null,
   "metadata": {
    "collapsed": true
   },
   "outputs": [],
   "source": []
  },
  {
   "cell_type": "code",
   "execution_count": 3,
   "metadata": {},
   "outputs": [
    {
     "name": "stdout",
     "output_type": "stream",
     "text": [
      "Extracting MNIST_data/train-images-idx3-ubyte.gz\n",
      "Extracting MNIST_data/train-labels-idx1-ubyte.gz\n",
      "Extracting MNIST_data/t10k-images-idx3-ubyte.gz\n",
      "Extracting MNIST_data/t10k-labels-idx1-ubyte.gz\n"
     ]
    }
   ],
   "source": [
    "mnist = input_data.read_data_sets(\"MNIST_data\", one_hot=False)"
   ]
  },
  {
   "cell_type": "code",
   "execution_count": 4,
   "metadata": {
    "collapsed": true
   },
   "outputs": [],
   "source": [
    "mnist_images, mnist_labels = mnist.train.next_batch(batch_size=5)"
   ]
  },
  {
   "cell_type": "markdown",
   "metadata": {},
   "source": [
    "Here, we've loaded the mnist data from the tensorflow helper class, and asked for the next batch of images and labels.  Let's view those to see what the data looks like before delving into the network:"
   ]
  },
  {
   "cell_type": "code",
   "execution_count": 5,
   "metadata": {},
   "outputs": [
    {
     "name": "stdout",
     "output_type": "stream",
     "text": [
      "mnist_images.shape: (5, 784)\n",
      "mnist_labels.shape: (5,)\n"
     ]
    }
   ],
   "source": [
    "print \"mnist_images.shape: {}\".format(mnist_images.shape)\n",
    "print \"mnist_labels.shape: {}\".format(mnist_labels.shape)"
   ]
  },
  {
   "cell_type": "markdown",
   "metadata": {},
   "source": [
    "As expected, variables are arrays with the outermost dimension equal to 5.  The images, though, comes unpacked as a 1D array per image instead of a 2D array.  We can reshape this to what we're more familar with, since we know mnist images are 28x28:"
   ]
  },
  {
   "cell_type": "code",
   "execution_count": 6,
   "metadata": {
    "collapsed": true
   },
   "outputs": [],
   "source": [
    "mnist_images = numpy.reshape(mnist_images, (-1, 28, 28)) # -1 can be used as a placeholder for batch size here"
   ]
  },
  {
   "cell_type": "code",
   "execution_count": 7,
   "metadata": {},
   "outputs": [
    {
     "name": "stdout",
     "output_type": "stream",
     "text": [
      "mnist_images.shape: (5, 28, 28)\n"
     ]
    }
   ],
   "source": [
    "print \"mnist_images.shape: {}\".format(mnist_images.shape)\n"
   ]
  },
  {
   "cell_type": "markdown",
   "metadata": {},
   "source": [
    "Matplotlib gives a good interface for viewing these images in a notebook (or even in general, in python):"
   ]
  },
  {
   "cell_type": "code",
   "execution_count": 8,
   "metadata": {
    "collapsed": true
   },
   "outputs": [],
   "source": [
    "from matplotlib import pyplot as plt\n",
    "%matplotlib inline"
   ]
  },
  {
   "cell_type": "code",
   "execution_count": 9,
   "metadata": {},
   "outputs": [
    {
     "name": "stdout",
     "output_type": "stream",
     "text": [
      "This image is labeled as 1\n"
     ]
    },
    {
     "data": {
      "image/png": "[encoded data removed]",
      "text/plain": [
       "<matplotlib.figure.Figure at 0x7f3b8d8c2f50>"
      ]
     },
     "metadata": {},
     "output_type": "display_data"
    }
   ],
   "source": [
    "index = numpy.random.randint(5)\n",
    "fig = plt.figure(figsize=(10,10))\n",
    "plt.imshow(mnist_images[index], cmap=\"Greys\", interpolation=\"none\")\n",
    "print \"This image is labeled as {}\".format(mnist_labels[index])\n",
    "plt.show()"
   ]
  },
  {
   "cell_type": "markdown",
   "metadata": {},
   "source": [
    "Drawn like this, you can see each individual pixel clearly.  It's not a high resolution image, but you can clearly tell what the digit is!"
   ]
  },
  {
   "cell_type": "markdown",
   "metadata": {},
   "source": [
    "## Building a model for a GAN"
   ]
  },
  {
   "cell_type": "markdown",
   "metadata": {},
   "source": [
    "We'll start to put together a network for the GAN, first by defining some useful constants that we'll need to call on multiple times:"
   ]
  },
  {
   "cell_type": "code",
   "execution_count": 10,
   "metadata": {
    "collapsed": true
   },
   "outputs": [],
   "source": [
    "BASE_LEARNING_RATE = 0.0001\n",
    "BATCH_SIZE=1000\n",
    "RANDOM_INPUT_DIMENSIONALITY = 100\n",
    "INCLUDE_NOISE=True\n",
    "LOGDIR=\"./mnist_gan_logs/lr_{}_include_noise_{}\".format(BASE_LEARNING_RATE, INCLUDE_NOISE)\n",
    "RESTORE=False\n",
    "TRAINING=True"
   ]
  },
  {
   "cell_type": "markdown",
   "metadata": {},
   "source": [
    "Additionally, let's make sure we have the same graph by defining it:"
   ]
  },
  {
   "cell_type": "code",
   "execution_count": 11,
   "metadata": {
    "collapsed": true
   },
   "outputs": [],
   "source": [
    "tf.reset_default_graph()\n",
    "\n",
    "g = tf.Graph()"
   ]
  },
  {
   "cell_type": "markdown",
   "metadata": {},
   "source": [
    "Set up the placeholders for the input variables.  We'll need to input both real images and random noise, so make a placeholder for both.  Additionally, based on this blog post (http://www.inference.vc/instance-noise-a-trick-for-stabilising-gan-training/) I add random gaussian noise to the real and fake images as they are fed to the discriminator to help stabalize training."
   ]
  },
  {
   "cell_type": "code",
   "execution_count": 12,
   "metadata": {
    "collapsed": true
   },
   "outputs": [],
   "source": [
    "with tf.device(default_device):\n",
    "    with g.as_default():\n",
    "        # Input noise to the generator:\n",
    "        noise_tensor = tf.placeholder(tf.float32, [BATCH_SIZE, RANDOM_INPUT_DIMENSIONALITY], name=\"noise\")\n",
    "#         fake_input   = tf.reshape(noise_tensor, (tf.shape(noise_tensor)[0], 10,10, 1))\n",
    "\n",
    "        # Placeholder for the discriminator input:\n",
    "        real_flat  = tf.placeholder(tf.float32, [BATCH_SIZE, 784], name='x')\n",
    "\n",
    "        # We augment the input to the discriminator with gaussian noise\n",
    "        # This makes it harder for the discriminator to do it's job, preventing\n",
    "        # it from always \"winning\" the GAN min/max contest\n",
    "        real_noise = tf.placeholder(tf.float32, [BATCH_SIZE, 28*28], name=\"real_noise\")\n",
    "        fake_noise = tf.placeholder(tf.float32, [BATCH_SIZE, 28*28], name=\"fake_noise\")\n",
    "\n",
    "        real_images = real_flat + real_noise\n"
   ]
  },
  {
   "cell_type": "code",
   "execution_count": 13,
   "metadata": {},
   "outputs": [
    {
     "name": "stdout",
     "output_type": "stream",
     "text": [
      "(1000, 784)\n",
      "(1000, 784)\n",
      "(1000, 100)\n",
      "(1000, 784)\n"
     ]
    }
   ],
   "source": [
    "print  real_flat.get_shape()\n",
    "print  real_noise.get_shape()\n",
    "print  noise_tensor.get_shape()\n",
    "print  fake_noise.get_shape()"
   ]
  },
  {
   "cell_type": "markdown",
   "metadata": {},
   "source": [
    "Notice how the input tensors (noise_tensor, real_images) are shaped in the 'flattened' way: (N/2, 100) for noise, (N/2, 784) for real images.  This lets me input the mnist images directly to tensorflow, as well as the noise.  They are then reshaped to be like tensorflow images (Batch, H, W, Filters)."
   ]
  },
  {
   "cell_type": "markdown",
   "metadata": {},
   "source": [
    "### Image Discriminator:"
   ]
  },
  {
   "cell_type": "markdown",
   "metadata": {},
   "source": [
    "Make a function to build the discriminator, using fully connected networks.  Note that a convolutional layer with the stride equal to the image size *is* a fully connected layer."
   ]
  },
  {
   "cell_type": "code",
   "execution_count": 14,
   "metadata": {},
   "outputs": [],
   "source": [
    "def build_discriminator(input_tensor, reuse, is_training, reg=0.2, dropout_rate=0.3):\n",
    "    # Use scoping to keep the variables nicely organized in the graph.\n",
    "    # Scoping is good practice always, but it's *essential* here as we'll see later on\n",
    "    with tf.variable_scope(\"mnist_discriminator\", reuse=reuse):\n",
    "\n",
    "        x = tf.layers.dense(input_tensor, 512, name=\"fc1\")\n",
    "        \n",
    "        # Apply a non linearity:\n",
    "        x = tf.maximum(reg*x, x, name=\"leaky_relu_1\")\n",
    "        \n",
    "        # Apply a dropout layer:\n",
    "        x = tf.layers.dropout(x,rate=dropout_rate, training=is_training, name=\"dropout1\")\n",
    "\n",
    "        x = tf.layers.dense(x, 256, name=\"fc2\")\n",
    "        \n",
    "        # Apply a non linearity:\n",
    "        x = tf.maximum(reg*x, x, name=\"leaky_relu_2\")\n",
    "        \n",
    "        # Apply a dropout layer:\n",
    "        x = tf.layers.dropout(x,rate=dropout_rate, training=is_training, name=\"dropout2\")\n",
    "        \n",
    "        x = tf.layers.dense(x, 1, name=\"fc4\") \n",
    "    \n",
    "        # Since we want to predict \"real\" or \"fake\", an output of 0 or 1 is desired.  sigmoid is perfect for this:\n",
    "        x = tf.nn.sigmoid(x, name=\"discriminator_sigmoid\")\n",
    "\n",
    "        return x"
   ]
  },
  {
   "cell_type": "code",
   "execution_count": 15,
   "metadata": {
    "collapsed": true
   },
   "outputs": [],
   "source": [
    "with tf.device(default_device):\n",
    "    with g.as_default():\n",
    "        real_image_logits = build_discriminator(real_images, reuse=False,is_training=TRAINING, reg=0.2, dropout_rate=0.3)"
   ]
  },
  {
   "cell_type": "markdown",
   "metadata": {},
   "source": [
    "Now we can define a function to generate random images from noise:"
   ]
  },
  {
   "cell_type": "code",
   "execution_count": 16,
   "metadata": {
    "collapsed": true
   },
   "outputs": [],
   "source": [
    "def build_generator(input_tensor, reg=0.2):\n",
    "    # Again, scoping is essential here:\n",
    "    with tf.variable_scope(\"mnist_generator\"):\n",
    "        x = tf.layers.dense(input_tensor, 256, name=\"fc1\")\n",
    "        \n",
    "        # Apply a non linearity:\n",
    "        x = tf.maximum(reg*x, x, name=\"leaky_relu_1\")\n",
    "        \n",
    "        x = tf.layers.dense(x, 512, name=\"fc2\")\n",
    "        \n",
    "        # Apply a non linearity:\n",
    "        x = tf.maximum(reg*x, x, name=\"leaky_relu_2\")\n",
    "        \n",
    "        x = tf.layers.dense(x, 1024, name=\"fc3\")\n",
    "        \n",
    "        # Apply a non linearity:\n",
    "        x = tf.maximum(reg*x, x, name=\"leaky_relu_3\")\n",
    "        \n",
    "        x = tf.layers.dense(x, 28*28, name=\"fc4\")\n",
    "        \n",
    "\n",
    "        # Reshape to match mnist images:\n",
    "#         x = tf.reshape(x, (-1, 28, 28, 1))\n",
    "        \n",
    "        # The final non linearity applied here is to map the images onto the [-1,1] range.\n",
    "        x = tf.nn.tanh(x, name=\"generator_tanh\")\n",
    "        return x"
   ]
  },
  {
   "cell_type": "code",
   "execution_count": 17,
   "metadata": {
    "collapsed": true
   },
   "outputs": [],
   "source": [
    "with tf.device(default_device):\n",
    "    with g.as_default():\n",
    "        fake_images = build_generator(noise_tensor) + fake_noise"
   ]
  },
  {
   "cell_type": "markdown",
   "metadata": {},
   "source": [
    "We also need to be able to run the discriminator on the fake images, so set that up too.  Since it trains on both real and fake images, set reuse=True here:"
   ]
  },
  {
   "cell_type": "code",
   "execution_count": 18,
   "metadata": {
    "collapsed": true
   },
   "outputs": [],
   "source": [
    "with tf.device(default_device):\n",
    "    with g.as_default():\n",
    "        fake_image_logits = build_discriminator(fake_images, reuse=True, is_training=TRAINING, dropout_rate=0.3, reg=0.2)"
   ]
  },
  {
   "cell_type": "markdown",
   "metadata": {},
   "source": [
    "### Loss functions"
   ]
  },
  {
   "cell_type": "markdown",
   "metadata": {},
   "source": [
    "We can now define our loss functions.  Note that we have to define the loss function for the generator and discriminator seperately:"
   ]
  },
  {
   "cell_type": "code",
   "execution_count": 19,
   "metadata": {
    "collapsed": true
   },
   "outputs": [],
   "source": [
    "with tf.device(default_device):\n",
    "    # Build the loss functions:\n",
    "    with g.as_default():\n",
    "        with tf.name_scope(\"cross_entropy\") as scope:\n",
    "\n",
    "            # Be careful with the loss functions.  The sigmoid activation is already applied as the\n",
    "            # last step of the discriminator network above.  If you want to use something like \n",
    "            # tf.nn.sigmoid_cross_entropy_with_loss, it *will not train* because it applies \n",
    "            # a sigmoid a second time.\n",
    "            d_loss_total = -tf.reduce_mean(tf.log(real_image_logits) + tf.log(1. - fake_image_logits))\n",
    "            \n",
    "        \n",
    "            # This is the adverserial step: g_loss tries to optimize fake_logits to one,\n",
    "            # While d_loss_fake tries to optimize fake_logits to zero.\n",
    "            g_loss = -tf.reduce_mean(tf.log(fake_image_logits))\n",
    "\n",
    "            # This code is useful if you'll use tensorboard to monitor training:\n",
    "#             d_loss_summary = tf.summary.scalar(\"Discriminator_Real_Loss\", d_loss_real)\n",
    "#             d_loss_summary = tf.summary.scalar(\"Discriminator_Fake_Loss\", d_loss_fake)\n",
    "            d_loss_summary = tf.summary.scalar(\"Discriminator_Total_Loss\", d_loss_total)\n",
    "            d_loss_summary = tf.summary.scalar(\"Generator_Loss\", g_loss)\n"
   ]
  },
  {
   "cell_type": "markdown",
   "metadata": {},
   "source": [
    "It's also useful to compute accuracy, just to see how the training is going:"
   ]
  },
  {
   "cell_type": "code",
   "execution_count": 20,
   "metadata": {
    "collapsed": true
   },
   "outputs": [],
   "source": [
    "with tf.device(default_device):\n",
    "    with g.as_default():\n",
    "        with tf.name_scope(\"accuracy\") as scope:\n",
    "            # Compute the discriminator accuracy on real data, fake data, and total:\n",
    "            accuracy_real  = tf.reduce_mean(tf.cast(tf.equal(tf.round(real_image_logits), \n",
    "                                                             tf.ones_like(real_image_logits)), \n",
    "                                                    tf.float32))\n",
    "            accuracy_fake  = tf.reduce_mean(tf.cast(tf.equal(tf.round(fake_image_logits), \n",
    "                                                             tf.zeros_like(fake_image_logits)), \n",
    "                                                    tf.float32))\n",
    "\n",
    "            total_accuracy = 0.5*(accuracy_fake +  accuracy_real)\n",
    "\n",
    "            # Again, useful for tensorboard:\n",
    "            acc_real_summary = tf.summary.scalar(\"Real_Accuracy\", accuracy_real)\n",
    "            acc_real_summary = tf.summary.scalar(\"Fake_Accuracy\", accuracy_fake)\n",
    "            acc_real_summary = tf.summary.scalar(\"Total_Accuracy\", total_accuracy)"
   ]
  },
  {
   "cell_type": "markdown",
   "metadata": {},
   "source": [
    "### Independant Optimizers"
   ]
  },
  {
   "cell_type": "markdown",
   "metadata": {},
   "source": [
    "To allow the generator and discriminator to compete and update seperately, we use two distinct optimizers.  This step is why it was essential earlier to have the scopes different for the generator and optimizer: we can select all variables in each scope to go to their own optimizer.  So, even though the generator loss calculation runs the discriminator, the update step for the generator **only** affects the variables inside the generator"
   ]
  },
  {
   "cell_type": "code",
   "execution_count": 21,
   "metadata": {
    "collapsed": true
   },
   "outputs": [],
   "source": [
    "with tf.device(default_device):\n",
    "    with g.as_default():\n",
    "        with tf.name_scope(\"training\") as scope:\n",
    "            # Global steps are useful for restoring training:\n",
    "            global_step = tf.Variable(0, dtype=tf.int32, trainable=False, name='global_step')\n",
    "\n",
    "            # Make sure the optimizers are only operating on their own variables:\n",
    "\n",
    "            all_variables      = tf.trainable_variables()\n",
    "            discriminator_vars = [v for v in all_variables if v.name.startswith('mnist_discriminator/')]\n",
    "            generator_vars     = [v for v in all_variables if v.name.startswith('mnist_generator/')]\n",
    "\n",
    "\n",
    "            discriminator_optimizer = tf.train.AdamOptimizer(BASE_LEARNING_RATE, 0.5).minimize(\n",
    "                d_loss_total, global_step=global_step, var_list=discriminator_vars)\n",
    "            generator_optimizer     = tf.train.AdamOptimizer(BASE_LEARNING_RATE, 0.5).minimize(\n",
    "                g_loss, global_step=global_step, var_list=generator_vars)\n"
   ]
  },
  {
   "cell_type": "markdown",
   "metadata": {},
   "source": [
    "### Image snapshots"
   ]
  },
  {
   "cell_type": "markdown",
   "metadata": {},
   "source": [
    "It's useful to snapshot images into tensorboard to see how things are going, as well:"
   ]
  },
  {
   "cell_type": "code",
   "execution_count": 22,
   "metadata": {
    "collapsed": true
   },
   "outputs": [],
   "source": [
    "with tf.device(default_device):\n",
    "    with g.as_default():\n",
    "        # Reshape images for snapshotting:\n",
    "        fake_images_reshaped = tf.reshape(fake_images, (-1, 28, 28, 1))\n",
    "        real_images_reshaped = tf.reshape(real_images, (-1, 28, 28, 1))\n",
    "        tf.summary.image('fake_images', fake_images_reshaped, max_outputs=4)\n",
    "        tf.summary.image('real_images', real_images_reshaped, max_outputs=4)\n"
   ]
  },
  {
   "cell_type": "markdown",
   "metadata": {},
   "source": [
    "## Training the networks"
   ]
  },
  {
   "cell_type": "markdown",
   "metadata": {},
   "source": [
    "There are lots of philosophys on training GANs.  Here, we'll do something simple and just alternate updates. To save the network and keep track of training variables, set up a summary writer:"
   ]
  },
  {
   "cell_type": "code",
   "execution_count": 23,
   "metadata": {
    "collapsed": true
   },
   "outputs": [],
   "source": [
    "with tf.device(default_device):\n",
    "    with g.as_default():\n",
    "        merged_summary = tf.summary.merge_all()\n",
    "\n",
    "        # Set up a saver:\n",
    "        train_writer = tf.summary.FileWriter(LOGDIR)"
   ]
  },
  {
   "cell_type": "markdown",
   "metadata": {},
   "source": [
    "Set up a session for training using an interactive session:"
   ]
  },
  {
   "cell_type": "code",
   "execution_count": 25,
   "metadata": {},
   "outputs": [
    {
     "name": "stdout",
     "output_type": "stream",
     "text": [
      "Begin training ...\n",
      "Training in progress @ epoch 0, g_loss 0.893345, d_loss 1.53016 accuracy 0.557\n",
      "Training in progress @ epoch 0.416667, g_loss 0.843144, d_loss 0.972822 accuracy 0.7365\n",
      "Training in progress @ epoch 0.833333, g_loss 0.863152, d_loss 1.38825 accuracy 0.605\n",
      "Training in progress @ epoch 1.25, g_loss 0.719649, d_loss 1.59149 accuracy 0.497\n",
      "Training in progress @ epoch 1.66667, g_loss 0.702568, d_loss 1.48906 accuracy 0.517\n",
      "Training in progress @ epoch 2.08333, g_loss 0.631832, d_loss 1.62463 accuracy 0.422\n",
      "Training in progress @ epoch 2.5, g_loss 0.749897, d_loss 1.39559 accuracy 0.563\n",
      "Training in progress @ epoch 2.91667, g_loss 0.725676, d_loss 1.32817 accuracy 0.593\n",
      "Training in progress @ epoch 3.33333, g_loss 0.751225, d_loss 1.33567 accuracy 0.579\n",
      "Training in progress @ epoch 3.75, g_loss 0.653358, d_loss 1.46901 accuracy 0.487\n",
      "Training in progress @ epoch 4.16667, g_loss 0.653158, d_loss 1.40897 accuracy 0.521\n",
      "Training in progress @ epoch 4.58333, g_loss 0.663497, d_loss 1.33549 accuracy 0.5775\n",
      "Training in progress @ epoch 5, g_loss 0.727223, d_loss 1.27295 accuracy 0.635\n",
      "Training in progress @ epoch 5.41667, g_loss 0.705953, d_loss 1.25705 accuracy 0.622\n",
      "Training in progress @ epoch 5.83333, g_loss 0.660916, d_loss 1.3043 accuracy 0.5785\n",
      "Training in progress @ epoch 6.25, g_loss 0.658513, d_loss 1.23949 accuracy 0.6055\n",
      "Training in progress @ epoch 6.66667, g_loss 0.722934, d_loss 1.14858 accuracy 0.6995\n",
      "Training in progress @ epoch 7.08333, g_loss 0.68654, d_loss 1.18951 accuracy 0.634\n",
      "Training in progress @ epoch 7.5, g_loss 0.700664, d_loss 1.14148 accuracy 0.673\n",
      "Training in progress @ epoch 7.91667, g_loss 0.647363, d_loss 1.15022 accuracy 0.646\n",
      "Training in progress @ epoch 8.33333, g_loss 0.636237, d_loss 1.21952 accuracy 0.595\n",
      "Training in progress @ epoch 8.75, g_loss 0.65368, d_loss 1.14786 accuracy 0.617\n",
      "Training in progress @ epoch 9.16667, g_loss 0.663789, d_loss 1.14544 accuracy 0.634\n",
      "Training in progress @ epoch 9.58333, g_loss 0.721734, d_loss 1.03842 accuracy 0.7285\n",
      "Training in progress @ epoch 10, g_loss 0.660086, d_loss 1.15497 accuracy 0.6195\n",
      "Training in progress @ epoch 10.4167, g_loss 0.709649, d_loss 1.07906 accuracy 0.6905\n",
      "Training in progress @ epoch 10.8333, g_loss 0.690499, d_loss 1.23816 accuracy 0.59\n",
      "Training in progress @ epoch 11.25, g_loss 0.774544, d_loss 1.04083 accuracy 0.763\n",
      "Training in progress @ epoch 11.6667, g_loss 0.806161, d_loss 0.948467 accuracy 0.7875\n",
      "Training in progress @ epoch 12.0833, g_loss 0.710344, d_loss 1.07334 accuracy 0.687\n",
      "Training in progress @ epoch 12.5, g_loss 0.796842, d_loss 1.05785 accuracy 0.711\n",
      "Training in progress @ epoch 12.9167, g_loss 0.789336, d_loss 1.04616 accuracy 0.735\n",
      "Training in progress @ epoch 13.3333, g_loss 0.87337, d_loss 0.928883 accuracy 0.8015\n",
      "Training in progress @ epoch 13.75, g_loss 0.689168, d_loss 1.22041 accuracy 0.6645\n",
      "Training in progress @ epoch 14.1667, g_loss 0.691655, d_loss 1.23257 accuracy 0.618\n",
      "Training in progress @ epoch 14.5833, g_loss 0.786817, d_loss 1.08821 accuracy 0.7395\n",
      "Training in progress @ epoch 15, g_loss 0.842183, d_loss 1.06354 accuracy 0.7575\n",
      "Training in progress @ epoch 15.4167, g_loss 0.964497, d_loss 0.912213 accuracy 0.856\n",
      "Training in progress @ epoch 15.8333, g_loss 0.917043, d_loss 0.976497 accuracy 0.7925\n",
      "Training in progress @ epoch 16.25, g_loss 0.927784, d_loss 0.98379 accuracy 0.778\n",
      "Training in progress @ epoch 16.6667, g_loss 0.981798, d_loss 0.947493 accuracy 0.813\n",
      "Training in progress @ epoch 17.0833, g_loss 0.954831, d_loss 0.969982 accuracy 0.8125\n",
      "Training in progress @ epoch 17.5, g_loss 0.88033, d_loss 1.04629 accuracy 0.755\n",
      "Training in progress @ epoch 17.9167, g_loss 0.863198, d_loss 1.04668 accuracy 0.7405\n",
      "Training in progress @ epoch 18.3333, g_loss 0.843684, d_loss 1.06611 accuracy 0.7215\n",
      "Training in progress @ epoch 18.75, g_loss 0.838558, d_loss 1.09106 accuracy 0.7215\n",
      "Training in progress @ epoch 19.1667, g_loss 0.800012, d_loss 1.14972 accuracy 0.674\n",
      "Training in progress @ epoch 19.5833, g_loss 0.874753, d_loss 1.10475 accuracy 0.7055\n",
      "Training in progress @ epoch 20, g_loss 0.937069, d_loss 1.03886 accuracy 0.7835\n",
      "Training in progress @ epoch 20.4167, g_loss 0.964274, d_loss 0.978238 accuracy 0.7875\n",
      "Training in progress @ epoch 20.8333, g_loss 0.810273, d_loss 1.17158 accuracy 0.6885\n",
      "Training in progress @ epoch 21.25, g_loss 0.754885, d_loss 1.23381 accuracy 0.657\n",
      "Training in progress @ epoch 21.6667, g_loss 0.929438, d_loss 1.06466 accuracy 0.7465\n",
      "Training in progress @ epoch 22.0833, g_loss 0.909772, d_loss 1.06875 accuracy 0.7455\n",
      "Training in progress @ epoch 22.5, g_loss 0.972389, d_loss 1.04117 accuracy 0.754\n",
      "Training in progress @ epoch 22.9167, g_loss 0.953401, d_loss 1.07551 accuracy 0.7515\n",
      "Training in progress @ epoch 23.3333, g_loss 0.981255, d_loss 1.04637 accuracy 0.7485\n",
      "Training in progress @ epoch 23.75, g_loss 1.00802, d_loss 1.13352 accuracy 0.7025\n",
      "Training in progress @ epoch 24.1667, g_loss 0.899686, d_loss 1.10896 accuracy 0.7345\n",
      "Training in progress @ epoch 24.5833, g_loss 0.921875, d_loss 1.1325 accuracy 0.7145\n",
      "Training in progress @ epoch 25, g_loss 0.924246, d_loss 1.08895 accuracy 0.738\n",
      "Training in progress @ epoch 25.4167, g_loss 1.01324, d_loss 1.02598 accuracy 0.78\n",
      "Training in progress @ epoch 25.8333, g_loss 0.935817, d_loss 1.12864 accuracy 0.7065\n",
      "Training in progress @ epoch 26.25, g_loss 1.00776, d_loss 1.04663 accuracy 0.7475\n",
      "Training in progress @ epoch 26.6667, g_loss 0.978866, d_loss 1.0608 accuracy 0.7475\n",
      "Training in progress @ epoch 27.0833, g_loss 0.999714, d_loss 1.01789 accuracy 0.773\n",
      "Training in progress @ epoch 27.5, g_loss 1.01735, d_loss 1.04902 accuracy 0.7355\n",
      "Training in progress @ epoch 27.9167, g_loss 1.05436, d_loss 1.06276 accuracy 0.736\n",
      "Training in progress @ epoch 28.3333, g_loss 1.09996, d_loss 0.990485 accuracy 0.788\n",
      "Training in progress @ epoch 28.75, g_loss 1.14029, d_loss 0.918192 accuracy 0.802\n",
      "Training in progress @ epoch 29.1667, g_loss 1.08767, d_loss 0.997492 accuracy 0.7655\n",
      "Training in progress @ epoch 29.5833, g_loss 0.922178, d_loss 1.17582 accuracy 0.6835\n",
      "Training in progress @ epoch 30, g_loss 1.06832, d_loss 0.988707 accuracy 0.7815\n",
      "Training in progress @ epoch 30.4167, g_loss 1.01886, d_loss 1.05683 accuracy 0.7525\n",
      "Training in progress @ epoch 30.8333, g_loss 1.03166, d_loss 1.03957 accuracy 0.759\n",
      "Training in progress @ epoch 31.25, g_loss 1.18873, d_loss 0.94978 accuracy 0.799\n",
      "Training in progress @ epoch 31.6667, g_loss 1.1249, d_loss 1.0121 accuracy 0.7605\n",
      "Training in progress @ epoch 32.0833, g_loss 1.15674, d_loss 0.875349 accuracy 0.8295\n",
      "Training in progress @ epoch 32.5, g_loss 1.07952, d_loss 0.993202 accuracy 0.7755\n",
      "Training in progress @ epoch 32.9167, g_loss 1.16572, d_loss 0.886307 accuracy 0.8155\n",
      "Training in progress @ epoch 33.3333, g_loss 1.0734, d_loss 0.941601 accuracy 0.789\n",
      "Training in progress @ epoch 33.75, g_loss 1.11608, d_loss 0.986189 accuracy 0.769\n",
      "Training in progress @ epoch 34.1667, g_loss 1.31215, d_loss 0.861663 accuracy 0.8235\n",
      "Training in progress @ epoch 34.5833, g_loss 1.25373, d_loss 0.873349 accuracy 0.824\n",
      "Training in progress @ epoch 35, g_loss 1.17004, d_loss 0.938024 accuracy 0.774\n",
      "Training in progress @ epoch 35.4167, g_loss 1.30696, d_loss 0.898369 accuracy 0.7875\n",
      "Training in progress @ epoch 35.8333, g_loss 1.23548, d_loss 0.931026 accuracy 0.785\n",
      "Training in progress @ epoch 36.25, g_loss 1.08107, d_loss 1.04019 accuracy 0.746\n",
      "Training in progress @ epoch 36.6667, g_loss 1.0731, d_loss 0.936793 accuracy 0.788\n",
      "Training in progress @ epoch 37.0833, g_loss 1.16246, d_loss 1.00218 accuracy 0.756\n",
      "Training in progress @ epoch 37.5, g_loss 1.17844, d_loss 0.934127 accuracy 0.799\n",
      "Training in progress @ epoch 37.9167, g_loss 1.08462, d_loss 0.935744 accuracy 0.788\n",
      "Training in progress @ epoch 38.3333, g_loss 1.23552, d_loss 0.845192 accuracy 0.824\n",
      "Training in progress @ epoch 38.75, g_loss 1.40322, d_loss 0.82234 accuracy 0.8295\n",
      "Training in progress @ epoch 39.1667, g_loss 1.38793, d_loss 0.810967 accuracy 0.841\n",
      "Training in progress @ epoch 39.5833, g_loss 1.48415, d_loss 0.695985 accuracy 0.8665\n",
      "Training in progress @ epoch 40, g_loss 1.09643, d_loss 0.907869 accuracy 0.7895\n",
      "Training in progress @ epoch 40.4167, g_loss 1.27591, d_loss 0.917371 accuracy 0.792\n"
     ]
    },
    {
     "name": "stdout",
     "output_type": "stream",
     "text": [
      "Training in progress @ epoch 40.8333, g_loss 1.43502, d_loss 0.816482 accuracy 0.833\n",
      "Training in progress @ epoch 41.25, g_loss 1.50966, d_loss 0.816011 accuracy 0.8275\n",
      "Training in progress @ epoch 41.6667, g_loss 0.956126, d_loss 0.901338 accuracy 0.7685\n",
      "Training in progress @ epoch 42.0833, g_loss 1.39743, d_loss 0.814558 accuracy 0.8155\n",
      "Training in progress @ epoch 42.5, g_loss 1.58151, d_loss 0.713586 accuracy 0.867\n",
      "Training in progress @ epoch 42.9167, g_loss 1.40712, d_loss 0.77928 accuracy 0.8435\n",
      "Training in progress @ epoch 43.3333, g_loss 1.37372, d_loss 0.862376 accuracy 0.8175\n",
      "Training in progress @ epoch 43.75, g_loss 1.3881, d_loss 0.901083 accuracy 0.804\n",
      "Training in progress @ epoch 44.1667, g_loss 1.51058, d_loss 0.870716 accuracy 0.804\n",
      "Training in progress @ epoch 44.5833, g_loss 1.45663, d_loss 0.877444 accuracy 0.802\n",
      "Training in progress @ epoch 45, g_loss 1.25771, d_loss 0.821761 accuracy 0.8185\n",
      "Training in progress @ epoch 45.4167, g_loss 1.16562, d_loss 0.918359 accuracy 0.7845\n",
      "Training in progress @ epoch 45.8333, g_loss 1.27482, d_loss 0.930839 accuracy 0.7945\n",
      "Training in progress @ epoch 46.25, g_loss 1.37755, d_loss 0.909283 accuracy 0.7945\n",
      "Training in progress @ epoch 46.6667, g_loss 1.30244, d_loss 0.860553 accuracy 0.808\n",
      "Training in progress @ epoch 47.0833, g_loss 1.24104, d_loss 0.951496 accuracy 0.789\n",
      "Training in progress @ epoch 47.5, g_loss 1.2532, d_loss 0.945005 accuracy 0.794\n",
      "Training in progress @ epoch 47.9167, g_loss 1.16212, d_loss 0.955832 accuracy 0.779\n",
      "Training in progress @ epoch 48.3333, g_loss 1.29832, d_loss 0.919701 accuracy 0.7895\n",
      "Training in progress @ epoch 48.75, g_loss 1.20408, d_loss 0.9552 accuracy 0.7755\n",
      "Training in progress @ epoch 49.1667, g_loss 1.3993, d_loss 0.929583 accuracy 0.7865\n",
      "Training in progress @ epoch 49.5833, g_loss 1.23012, d_loss 0.959752 accuracy 0.766\n",
      "Training in progress @ epoch 50, g_loss 1.1796, d_loss 0.893445 accuracy 0.791\n",
      "Training in progress @ epoch 50.4167, g_loss 1.36509, d_loss 0.804266 accuracy 0.8345\n",
      "Training in progress @ epoch 50.8333, g_loss 1.54549, d_loss 1.04407 accuracy 0.7395\n",
      "Training in progress @ epoch 51.25, g_loss 1.22708, d_loss 0.981649 accuracy 0.771\n",
      "Training in progress @ epoch 51.6667, g_loss 1.2494, d_loss 1.02299 accuracy 0.7415\n",
      "Training in progress @ epoch 52.0833, g_loss 1.33037, d_loss 0.959447 accuracy 0.7795\n",
      "Training in progress @ epoch 52.5, g_loss 1.43133, d_loss 0.941174 accuracy 0.7745\n",
      "Training in progress @ epoch 52.9167, g_loss 1.15218, d_loss 0.98867 accuracy 0.758\n",
      "Training in progress @ epoch 53.3333, g_loss 1.31599, d_loss 0.942877 accuracy 0.7875\n",
      "Training in progress @ epoch 53.75, g_loss 1.33891, d_loss 0.833962 accuracy 0.8165\n",
      "Training in progress @ epoch 54.1667, g_loss 1.40885, d_loss 0.811312 accuracy 0.8265\n",
      "Training in progress @ epoch 54.5833, g_loss 1.19518, d_loss 0.853993 accuracy 0.8155\n",
      "Training in progress @ epoch 55, g_loss 1.40155, d_loss 0.820806 accuracy 0.8125\n",
      "Training in progress @ epoch 55.4167, g_loss 1.2268, d_loss 0.824577 accuracy 0.8075\n",
      "Training in progress @ epoch 55.8333, g_loss 1.64078, d_loss 0.899649 accuracy 0.7885\n",
      "Training in progress @ epoch 56.25, g_loss 1.75945, d_loss 0.848749 accuracy 0.8175\n",
      "Training in progress @ epoch 56.6667, g_loss 1.35337, d_loss 0.861257 accuracy 0.7905\n",
      "Training in progress @ epoch 57.0833, g_loss 1.38899, d_loss 0.811228 accuracy 0.8185\n",
      "Training in progress @ epoch 57.5, g_loss 1.40203, d_loss 0.741729 accuracy 0.838\n",
      "Training in progress @ epoch 57.9167, g_loss 1.55474, d_loss 0.785874 accuracy 0.822\n",
      "Training in progress @ epoch 58.3333, g_loss 1.45058, d_loss 0.83664 accuracy 0.812\n",
      "Training in progress @ epoch 58.75, g_loss 1.39094, d_loss 0.799083 accuracy 0.815\n",
      "Training in progress @ epoch 59.1667, g_loss 1.41006, d_loss 0.784134 accuracy 0.8265\n",
      "Training in progress @ epoch 59.5833, g_loss 1.29093, d_loss 0.916455 accuracy 0.783\n",
      "Training in progress @ epoch 60, g_loss 1.52703, d_loss 0.84653 accuracy 0.814\n",
      "Training in progress @ epoch 60.4167, g_loss 1.4746, d_loss 0.842896 accuracy 0.8135\n",
      "Training in progress @ epoch 60.8333, g_loss 1.41336, d_loss 0.846327 accuracy 0.814\n",
      "Training in progress @ epoch 61.25, g_loss 1.61867, d_loss 0.762794 accuracy 0.839\n",
      "Training in progress @ epoch 61.6667, g_loss 1.22001, d_loss 0.857718 accuracy 0.802\n",
      "Training in progress @ epoch 62.0833, g_loss 1.38345, d_loss 0.856141 accuracy 0.7995\n",
      "Training in progress @ epoch 62.5, g_loss 1.55165, d_loss 0.795561 accuracy 0.8245\n",
      "Training in progress @ epoch 62.9167, g_loss 1.7629, d_loss 0.824126 accuracy 0.8165\n",
      "Training in progress @ epoch 63.3333, g_loss 1.31109, d_loss 0.869285 accuracy 0.812\n",
      "Training in progress @ epoch 63.75, g_loss 1.30323, d_loss 0.906706 accuracy 0.783\n",
      "Training in progress @ epoch 64.1667, g_loss 1.59338, d_loss 0.763001 accuracy 0.8315\n",
      "Training in progress @ epoch 64.5833, g_loss 1.51048, d_loss 0.813291 accuracy 0.821\n",
      "Training in progress @ epoch 65, g_loss 1.4264, d_loss 0.882517 accuracy 0.8\n",
      "Training in progress @ epoch 65.4167, g_loss 1.57359, d_loss 0.944353 accuracy 0.78\n",
      "Training in progress @ epoch 65.8333, g_loss 1.52133, d_loss 0.969666 accuracy 0.7735\n",
      "Training in progress @ epoch 66.25, g_loss 1.83325, d_loss 0.935452 accuracy 0.789\n",
      "Training in progress @ epoch 66.6667, g_loss 1.46022, d_loss 0.937411 accuracy 0.778\n",
      "Training in progress @ epoch 67.0833, g_loss 1.32549, d_loss 0.938177 accuracy 0.781\n",
      "Training in progress @ epoch 67.5, g_loss 1.18703, d_loss 0.930399 accuracy 0.7835\n",
      "Training in progress @ epoch 67.9167, g_loss 1.60599, d_loss 0.869756 accuracy 0.811\n",
      "Training in progress @ epoch 68.3333, g_loss 1.32368, d_loss 0.911509 accuracy 0.7885\n",
      "Training in progress @ epoch 68.75, g_loss 1.42485, d_loss 0.86357 accuracy 0.801\n",
      "Training in progress @ epoch 69.1667, g_loss 1.45759, d_loss 0.885867 accuracy 0.803\n",
      "Training in progress @ epoch 69.5833, g_loss 1.45693, d_loss 0.827956 accuracy 0.8275\n",
      "Training in progress @ epoch 70, g_loss 1.5465, d_loss 0.826478 accuracy 0.815\n",
      "Training in progress @ epoch 70.4167, g_loss 1.60573, d_loss 0.795655 accuracy 0.8265\n",
      "Training in progress @ epoch 70.8333, g_loss 1.66684, d_loss 0.85243 accuracy 0.8185\n",
      "Training in progress @ epoch 71.25, g_loss 1.37105, d_loss 0.88983 accuracy 0.7965\n",
      "Training in progress @ epoch 71.6667, g_loss 1.62789, d_loss 0.904707 accuracy 0.7915\n",
      "Training in progress @ epoch 72.0833, g_loss 1.47907, d_loss 0.813383 accuracy 0.815\n",
      "Training in progress @ epoch 72.5, g_loss 1.79343, d_loss 0.841215 accuracy 0.809\n",
      "Training in progress @ epoch 72.9167, g_loss 1.27534, d_loss 0.927562 accuracy 0.7865\n",
      "Training in progress @ epoch 73.3333, g_loss 1.20427, d_loss 0.844485 accuracy 0.809\n",
      "Training in progress @ epoch 73.75, g_loss 1.50007, d_loss 0.844936 accuracy 0.799\n",
      "Training in progress @ epoch 74.1667, g_loss 1.49918, d_loss 0.80586 accuracy 0.8155\n",
      "Training in progress @ epoch 74.5833, g_loss 1.20651, d_loss 0.86805 accuracy 0.798\n",
      "Training in progress @ epoch 75, g_loss 1.39144, d_loss 0.846715 accuracy 0.8045\n",
      "Training in progress @ epoch 75.4167, g_loss 1.08, d_loss 0.914767 accuracy 0.7805\n",
      "Training in progress @ epoch 75.8333, g_loss 1.6201, d_loss 0.834314 accuracy 0.8175\n",
      "Training in progress @ epoch 76.25, g_loss 1.57199, d_loss 0.871903 accuracy 0.802\n",
      "Training in progress @ epoch 76.6667, g_loss 1.37954, d_loss 0.919312 accuracy 0.775\n",
      "Training in progress @ epoch 77.0833, g_loss 1.41251, d_loss 0.900033 accuracy 0.787\n",
      "Training in progress @ epoch 77.5, g_loss 1.57766, d_loss 0.853739 accuracy 0.817\n",
      "Training in progress @ epoch 77.9167, g_loss 1.65303, d_loss 0.862354 accuracy 0.8105\n",
      "Training in progress @ epoch 78.3333, g_loss 1.45235, d_loss 0.835671 accuracy 0.804\n",
      "Training in progress @ epoch 78.75, g_loss 1.34394, d_loss 0.837246 accuracy 0.8115\n",
      "Training in progress @ epoch 79.1667, g_loss 1.39269, d_loss 0.879805 accuracy 0.7925\n",
      "Training in progress @ epoch 79.5833, g_loss 1.3293, d_loss 0.870356 accuracy 0.803\n",
      "Training in progress @ epoch 80, g_loss 1.43554, d_loss 0.916263 accuracy 0.7925\n",
      "Training in progress @ epoch 80.4167, g_loss 1.54984, d_loss 0.874811 accuracy 0.8065\n",
      "Training in progress @ epoch 80.8333, g_loss 1.29033, d_loss 0.932019 accuracy 0.7775\n",
      "Training in progress @ epoch 81.25, g_loss 1.40401, d_loss 0.919183 accuracy 0.789\n"
     ]
    },
    {
     "name": "stdout",
     "output_type": "stream",
     "text": [
      "Training in progress @ epoch 81.6667, g_loss 1.57586, d_loss 0.942771 accuracy 0.7775\n",
      "Training in progress @ epoch 82.0833, g_loss 1.25364, d_loss 0.935098 accuracy 0.776\n",
      "Training in progress @ epoch 82.5, g_loss 1.40078, d_loss 0.894029 accuracy 0.794\n",
      "Training in progress @ epoch 82.9167, g_loss 1.2917, d_loss 0.89806 accuracy 0.789\n",
      "Training in progress @ epoch 83.3333, g_loss 1.375, d_loss 0.966485 accuracy 0.766\n",
      "Training in progress @ epoch 83.75, g_loss 1.44997, d_loss 0.93448 accuracy 0.7895\n",
      "Training in progress @ epoch 84.1667, g_loss 1.41615, d_loss 0.872655 accuracy 0.794\n",
      "Training in progress @ epoch 84.5833, g_loss 1.30699, d_loss 0.957525 accuracy 0.7675\n",
      "Training in progress @ epoch 85, g_loss 1.38445, d_loss 0.959675 accuracy 0.776\n",
      "Training in progress @ epoch 85.4167, g_loss 1.29057, d_loss 0.917537 accuracy 0.788\n",
      "Training in progress @ epoch 85.8333, g_loss 1.34127, d_loss 0.986895 accuracy 0.7585\n",
      "Training in progress @ epoch 86.25, g_loss 1.37142, d_loss 0.967749 accuracy 0.767\n",
      "Training in progress @ epoch 86.6667, g_loss 1.32575, d_loss 0.988104 accuracy 0.7575\n",
      "Training in progress @ epoch 87.0833, g_loss 1.22304, d_loss 0.974474 accuracy 0.761\n",
      "Training in progress @ epoch 87.5, g_loss 1.52609, d_loss 1.00524 accuracy 0.756\n",
      "Training in progress @ epoch 87.9167, g_loss 1.22557, d_loss 0.948659 accuracy 0.77\n",
      "Training in progress @ epoch 88.3333, g_loss 1.44899, d_loss 0.968539 accuracy 0.766\n",
      "Training in progress @ epoch 88.75, g_loss 1.29377, d_loss 0.947264 accuracy 0.768\n",
      "Training in progress @ epoch 89.1667, g_loss 1.35245, d_loss 0.973773 accuracy 0.7645\n",
      "Training in progress @ epoch 89.5833, g_loss 1.20733, d_loss 0.934726 accuracy 0.77\n",
      "Training in progress @ epoch 90, g_loss 1.45104, d_loss 1.00305 accuracy 0.7615\n",
      "Training in progress @ epoch 90.4167, g_loss 1.30472, d_loss 0.975879 accuracy 0.771\n",
      "Training in progress @ epoch 90.8333, g_loss 1.21047, d_loss 1.00516 accuracy 0.7565\n",
      "Training in progress @ epoch 91.25, g_loss 1.45344, d_loss 1.0102 accuracy 0.761\n",
      "Training in progress @ epoch 91.6667, g_loss 1.10617, d_loss 0.984765 accuracy 0.765\n",
      "Training in progress @ epoch 92.0833, g_loss 1.19409, d_loss 1.00679 accuracy 0.76\n",
      "Training in progress @ epoch 92.5, g_loss 1.27587, d_loss 0.97907 accuracy 0.7635\n",
      "Training in progress @ epoch 92.9167, g_loss 1.13214, d_loss 1.01288 accuracy 0.7505\n",
      "Training in progress @ epoch 93.3333, g_loss 1.22213, d_loss 1.04124 accuracy 0.744\n",
      "Training in progress @ epoch 93.75, g_loss 1.23603, d_loss 0.994572 accuracy 0.761\n",
      "Training in progress @ epoch 94.1667, g_loss 1.36019, d_loss 0.987995 accuracy 0.7635\n",
      "Training in progress @ epoch 94.5833, g_loss 1.24573, d_loss 1.06656 accuracy 0.7345\n",
      "Training in progress @ epoch 95, g_loss 1.06271, d_loss 1.04929 accuracy 0.731\n",
      "Training in progress @ epoch 95.4167, g_loss 1.23342, d_loss 1.00775 accuracy 0.753\n",
      "Training in progress @ epoch 95.8333, g_loss 1.25056, d_loss 1.0101 accuracy 0.757\n",
      "Training in progress @ epoch 96.25, g_loss 1.06937, d_loss 0.988683 accuracy 0.7585\n",
      "Training in progress @ epoch 96.6667, g_loss 1.35506, d_loss 0.942533 accuracy 0.78\n",
      "Training in progress @ epoch 97.0833, g_loss 1.20012, d_loss 1.03417 accuracy 0.7525\n",
      "Training in progress @ epoch 97.5, g_loss 1.11909, d_loss 1.03559 accuracy 0.7365\n",
      "Training in progress @ epoch 97.9167, g_loss 1.32032, d_loss 1.00366 accuracy 0.757\n",
      "Training in progress @ epoch 98.3333, g_loss 1.19455, d_loss 0.99562 accuracy 0.759\n",
      "Training in progress @ epoch 98.75, g_loss 1.26578, d_loss 1.00238 accuracy 0.763\n",
      "Training in progress @ epoch 99.1667, g_loss 0.998396, d_loss 1.0652 accuracy 0.738\n",
      "Training in progress @ epoch 99.5833, g_loss 1.09977, d_loss 1.02845 accuracy 0.7535\n",
      "Training in progress @ epoch 100, g_loss 1.11682, d_loss 1.00641 accuracy 0.7655\n",
      "Training in progress @ epoch 100.417, g_loss 1.24829, d_loss 0.98078 accuracy 0.7555\n",
      "Training in progress @ epoch 100.833, g_loss 1.10107, d_loss 1.01396 accuracy 0.749\n",
      "Training in progress @ epoch 101.25, g_loss 1.27584, d_loss 1.01986 accuracy 0.754\n",
      "Training in progress @ epoch 101.667, g_loss 1.39738, d_loss 1.05263 accuracy 0.7445\n",
      "Training in progress @ epoch 102.083, g_loss 1.2446, d_loss 1.02998 accuracy 0.743\n",
      "Training in progress @ epoch 102.5, g_loss 1.22322, d_loss 1.0411 accuracy 0.7495\n",
      "Training in progress @ epoch 102.917, g_loss 1.23248, d_loss 1.03166 accuracy 0.7475\n",
      "Training in progress @ epoch 103.333, g_loss 1.31219, d_loss 0.960288 accuracy 0.7695\n",
      "Training in progress @ epoch 103.75, g_loss 1.17807, d_loss 0.96823 accuracy 0.776\n",
      "Training in progress @ epoch 104.167, g_loss 1.14887, d_loss 1.01824 accuracy 0.738\n",
      "Training in progress @ epoch 104.583, g_loss 1.39419, d_loss 1.04076 accuracy 0.753\n",
      "Training in progress @ epoch 105, g_loss 1.11594, d_loss 1.11519 accuracy 0.7065\n",
      "Training in progress @ epoch 105.417, g_loss 1.19187, d_loss 1.04889 accuracy 0.733\n",
      "Training in progress @ epoch 105.833, g_loss 1.00974, d_loss 1.04929 accuracy 0.737\n",
      "Training in progress @ epoch 106.25, g_loss 1.10531, d_loss 1.04949 accuracy 0.7355\n",
      "Training in progress @ epoch 106.667, g_loss 1.13769, d_loss 1.02679 accuracy 0.749\n",
      "Training in progress @ epoch 107.083, g_loss 1.24069, d_loss 1.04546 accuracy 0.7485\n",
      "Training in progress @ epoch 107.5, g_loss 0.861348, d_loss 1.12704 accuracy 0.701\n",
      "Training in progress @ epoch 107.917, g_loss 0.980909, d_loss 1.0397 accuracy 0.7365\n",
      "Training in progress @ epoch 108.333, g_loss 1.01186, d_loss 1.06156 accuracy 0.733\n",
      "Training in progress @ epoch 108.75, g_loss 1.1782, d_loss 1.03052 accuracy 0.7455\n",
      "Training in progress @ epoch 109.167, g_loss 1.35841, d_loss 1.04193 accuracy 0.7375\n",
      "Training in progress @ epoch 109.583, g_loss 1.13327, d_loss 1.07085 accuracy 0.7335\n",
      "Training in progress @ epoch 110, g_loss 1.24759, d_loss 1.09594 accuracy 0.7295\n",
      "Training in progress @ epoch 110.417, g_loss 1.01417, d_loss 1.11752 accuracy 0.714\n",
      "Training in progress @ epoch 110.833, g_loss 0.928678, d_loss 1.13521 accuracy 0.7065\n",
      "Training in progress @ epoch 111.25, g_loss 1.11508, d_loss 1.08716 accuracy 0.7225\n",
      "Training in progress @ epoch 111.667, g_loss 1.26206, d_loss 1.11673 accuracy 0.712\n",
      "Training in progress @ epoch 112.083, g_loss 1.1439, d_loss 1.04433 accuracy 0.746\n",
      "Training in progress @ epoch 112.5, g_loss 1.06931, d_loss 1.08946 accuracy 0.72\n",
      "Training in progress @ epoch 112.917, g_loss 1.04658, d_loss 1.10613 accuracy 0.718\n",
      "Training in progress @ epoch 113.333, g_loss 1.07359, d_loss 1.06971 accuracy 0.7315\n",
      "Training in progress @ epoch 113.75, g_loss 1.03524, d_loss 1.08787 accuracy 0.7215\n",
      "Training in progress @ epoch 114.167, g_loss 1.08548, d_loss 1.15772 accuracy 0.6965\n",
      "Training in progress @ epoch 114.583, g_loss 0.941676, d_loss 1.12683 accuracy 0.7015\n",
      "Training in progress @ epoch 115, g_loss 1.00022, d_loss 1.10624 accuracy 0.7235\n",
      "Training in progress @ epoch 115.417, g_loss 1.03122, d_loss 1.08215 accuracy 0.722\n",
      "Training in progress @ epoch 115.833, g_loss 1.04946, d_loss 1.12021 accuracy 0.708\n",
      "Training in progress @ epoch 116.25, g_loss 1.05875, d_loss 1.08704 accuracy 0.7285\n",
      "Training in progress @ epoch 116.667, g_loss 0.919803, d_loss 1.13515 accuracy 0.706\n",
      "Training in progress @ epoch 117.083, g_loss 1.12919, d_loss 1.13531 accuracy 0.704\n",
      "Training in progress @ epoch 117.5, g_loss 1.00504, d_loss 1.15225 accuracy 0.696\n",
      "Training in progress @ epoch 117.917, g_loss 0.994367, d_loss 1.15325 accuracy 0.701\n",
      "Training in progress @ epoch 118.333, g_loss 1.05579, d_loss 1.14184 accuracy 0.7015\n",
      "Training in progress @ epoch 118.75, g_loss 1.00777, d_loss 1.12768 accuracy 0.719\n",
      "Training in progress @ epoch 119.167, g_loss 1.16557, d_loss 1.12692 accuracy 0.714\n",
      "Training in progress @ epoch 119.583, g_loss 1.06848, d_loss 1.13958 accuracy 0.71\n",
      "Training in progress @ epoch 120, g_loss 1.14324, d_loss 1.0991 accuracy 0.7225\n",
      "Training in progress @ epoch 120.417, g_loss 1.30579, d_loss 1.17596 accuracy 0.689\n",
      "Training in progress @ epoch 120.833, g_loss 1.00304, d_loss 1.20832 accuracy 0.677\n",
      "Training in progress @ epoch 121.25, g_loss 0.956967, d_loss 1.13905 accuracy 0.6915\n",
      "Training in progress @ epoch 121.667, g_loss 1.12442, d_loss 1.15475 accuracy 0.6925\n",
      "Training in progress @ epoch 122.083, g_loss 1.0027, d_loss 1.12263 accuracy 0.706\n"
     ]
    },
    {
     "name": "stdout",
     "output_type": "stream",
     "text": [
      "Training in progress @ epoch 122.5, g_loss 0.945789, d_loss 1.14469 accuracy 0.6935\n",
      "Training in progress @ epoch 122.917, g_loss 1.00264, d_loss 1.16353 accuracy 0.702\n",
      "Training in progress @ epoch 123.333, g_loss 1.01754, d_loss 1.15077 accuracy 0.694\n",
      "Training in progress @ epoch 123.75, g_loss 0.957294, d_loss 1.1637 accuracy 0.6875\n",
      "Training in progress @ epoch 124.167, g_loss 1.03028, d_loss 1.11422 accuracy 0.7285\n",
      "Training in progress @ epoch 124.583, g_loss 1.00632, d_loss 1.10492 accuracy 0.7215\n",
      "Training in progress @ epoch 125, g_loss 1.10432, d_loss 1.12976 accuracy 0.7145\n",
      "Training in progress @ epoch 125.417, g_loss 0.965381, d_loss 1.17179 accuracy 0.6895\n",
      "Training in progress @ epoch 125.833, g_loss 0.834558, d_loss 1.16247 accuracy 0.6945\n",
      "Training in progress @ epoch 126.25, g_loss 0.820274, d_loss 1.17434 accuracy 0.676\n",
      "Training in progress @ epoch 126.667, g_loss 1.01631, d_loss 1.1323 accuracy 0.7045\n",
      "Training in progress @ epoch 127.083, g_loss 0.919064, d_loss 1.13624 accuracy 0.698\n",
      "Training in progress @ epoch 127.5, g_loss 0.935334, d_loss 1.19864 accuracy 0.671\n",
      "Training in progress @ epoch 127.917, g_loss 0.975238, d_loss 1.16554 accuracy 0.691\n",
      "Training in progress @ epoch 128.333, g_loss 0.928213, d_loss 1.17364 accuracy 0.677\n",
      "Training in progress @ epoch 128.75, g_loss 1.0617, d_loss 1.16101 accuracy 0.698\n",
      "Training in progress @ epoch 129.167, g_loss 1.05374, d_loss 1.1777 accuracy 0.6805\n",
      "Training in progress @ epoch 129.583, g_loss 0.996461, d_loss 1.19538 accuracy 0.6835\n",
      "Training in progress @ epoch 130, g_loss 0.999612, d_loss 1.21368 accuracy 0.6615\n",
      "Training in progress @ epoch 130.417, g_loss 0.912574, d_loss 1.1662 accuracy 0.694\n",
      "Training in progress @ epoch 130.833, g_loss 1.10002, d_loss 1.1514 accuracy 0.685\n",
      "Training in progress @ epoch 131.25, g_loss 0.86822, d_loss 1.15403 accuracy 0.6875\n",
      "Training in progress @ epoch 131.667, g_loss 0.993063, d_loss 1.13977 accuracy 0.701\n",
      "Training in progress @ epoch 132.083, g_loss 1.19759, d_loss 1.18065 accuracy 0.6845\n",
      "Training in progress @ epoch 132.5, g_loss 0.922382, d_loss 1.15657 accuracy 0.689\n",
      "Training in progress @ epoch 132.917, g_loss 0.901291, d_loss 1.16131 accuracy 0.692\n",
      "Training in progress @ epoch 133.333, g_loss 0.987066, d_loss 1.15264 accuracy 0.6945\n",
      "Training in progress @ epoch 133.75, g_loss 1.13369, d_loss 1.15866 accuracy 0.682\n",
      "Training in progress @ epoch 134.167, g_loss 1.06636, d_loss 1.2043 accuracy 0.6875\n",
      "Training in progress @ epoch 134.583, g_loss 1.00544, d_loss 1.19849 accuracy 0.6775\n",
      "Training in progress @ epoch 135, g_loss 1.03253, d_loss 1.162 accuracy 0.7005\n",
      "Training in progress @ epoch 135.417, g_loss 1.00865, d_loss 1.19758 accuracy 0.672\n",
      "Training in progress @ epoch 135.833, g_loss 1.07297, d_loss 1.19397 accuracy 0.679\n",
      "Training in progress @ epoch 136.25, g_loss 0.957089, d_loss 1.19957 accuracy 0.6605\n",
      "Training in progress @ epoch 136.667, g_loss 0.969093, d_loss 1.15779 accuracy 0.6875\n",
      "Training in progress @ epoch 137.083, g_loss 1.01631, d_loss 1.18348 accuracy 0.678\n",
      "Training in progress @ epoch 137.5, g_loss 0.860162, d_loss 1.19935 accuracy 0.6795\n",
      "Training in progress @ epoch 137.917, g_loss 1.06641, d_loss 1.21161 accuracy 0.6615\n",
      "Training in progress @ epoch 138.333, g_loss 1.05417, d_loss 1.16303 accuracy 0.687\n",
      "Training in progress @ epoch 138.75, g_loss 0.948041, d_loss 1.20802 accuracy 0.678\n",
      "Training in progress @ epoch 139.167, g_loss 0.871319, d_loss 1.18182 accuracy 0.6865\n",
      "Training in progress @ epoch 139.583, g_loss 1.239, d_loss 1.19183 accuracy 0.6755\n",
      "Training in progress @ epoch 140, g_loss 1.11797, d_loss 1.24633 accuracy 0.6565\n",
      "Training in progress @ epoch 140.417, g_loss 0.879647, d_loss 1.20207 accuracy 0.673\n",
      "Training in progress @ epoch 140.833, g_loss 0.952352, d_loss 1.16682 accuracy 0.6995\n",
      "Training in progress @ epoch 141.25, g_loss 0.805161, d_loss 1.1987 accuracy 0.68\n",
      "Training in progress @ epoch 141.667, g_loss 1.02091, d_loss 1.19234 accuracy 0.675\n",
      "Training in progress @ epoch 142.083, g_loss 0.843895, d_loss 1.18408 accuracy 0.68\n",
      "Training in progress @ epoch 142.5, g_loss 0.994079, d_loss 1.21566 accuracy 0.66\n",
      "Training in progress @ epoch 142.917, g_loss 1.04476, d_loss 1.18562 accuracy 0.6855\n",
      "Training in progress @ epoch 143.333, g_loss 0.970251, d_loss 1.19153 accuracy 0.6745\n",
      "Training in progress @ epoch 143.75, g_loss 0.897964, d_loss 1.19905 accuracy 0.6765\n",
      "Training in progress @ epoch 144.167, g_loss 1.03771, d_loss 1.20114 accuracy 0.679\n",
      "Training in progress @ epoch 144.583, g_loss 0.943581, d_loss 1.18797 accuracy 0.691\n",
      "Training in progress @ epoch 145, g_loss 0.916384, d_loss 1.18971 accuracy 0.6695\n",
      "Training in progress @ epoch 145.417, g_loss 0.943837, d_loss 1.22802 accuracy 0.6675\n",
      "Training in progress @ epoch 145.833, g_loss 0.983356, d_loss 1.2272 accuracy 0.6755\n",
      "Training in progress @ epoch 146.25, g_loss 0.987843, d_loss 1.15406 accuracy 0.696\n",
      "Training in progress @ epoch 146.667, g_loss 0.943987, d_loss 1.22487 accuracy 0.662\n",
      "Training in progress @ epoch 147.083, g_loss 0.904239, d_loss 1.18514 accuracy 0.672\n",
      "Training in progress @ epoch 147.5, g_loss 1.02304, d_loss 1.21371 accuracy 0.6715\n",
      "Training in progress @ epoch 147.917, g_loss 0.876986, d_loss 1.23809 accuracy 0.652\n",
      "Training in progress @ epoch 148.333, g_loss 0.986972, d_loss 1.20424 accuracy 0.6785\n",
      "Training in progress @ epoch 148.75, g_loss 1.00926, d_loss 1.2124 accuracy 0.665\n",
      "Training in progress @ epoch 149.167, g_loss 0.851289, d_loss 1.22839 accuracy 0.6625\n",
      "Training in progress @ epoch 149.583, g_loss 0.882851, d_loss 1.19945 accuracy 0.6775\n",
      "Training in progress @ epoch 150, g_loss 1.02348, d_loss 1.18349 accuracy 0.685\n",
      "Training in progress @ epoch 150.417, g_loss 0.990367, d_loss 1.1861 accuracy 0.6725\n",
      "Training in progress @ epoch 150.833, g_loss 1.06089, d_loss 1.22316 accuracy 0.661\n",
      "Training in progress @ epoch 151.25, g_loss 0.870404, d_loss 1.25529 accuracy 0.656\n",
      "Training in progress @ epoch 151.667, g_loss 1.0341, d_loss 1.24938 accuracy 0.647\n",
      "Training in progress @ epoch 152.083, g_loss 0.922605, d_loss 1.21685 accuracy 0.66\n",
      "Training in progress @ epoch 152.5, g_loss 0.903624, d_loss 1.22907 accuracy 0.6625\n",
      "Training in progress @ epoch 152.917, g_loss 0.936457, d_loss 1.2118 accuracy 0.6685\n",
      "Training in progress @ epoch 153.333, g_loss 0.840758, d_loss 1.24296 accuracy 0.6535\n",
      "Training in progress @ epoch 153.75, g_loss 0.825399, d_loss 1.26196 accuracy 0.645\n",
      "Training in progress @ epoch 154.167, g_loss 0.910044, d_loss 1.25379 accuracy 0.658\n",
      "Training in progress @ epoch 154.583, g_loss 1.02902, d_loss 1.20907 accuracy 0.6735\n",
      "Training in progress @ epoch 155, g_loss 0.905953, d_loss 1.20039 accuracy 0.682\n",
      "Training in progress @ epoch 155.417, g_loss 0.878106, d_loss 1.25298 accuracy 0.653\n",
      "Training in progress @ epoch 155.833, g_loss 0.901699, d_loss 1.23653 accuracy 0.667\n",
      "Training in progress @ epoch 156.25, g_loss 0.899101, d_loss 1.24851 accuracy 0.655\n",
      "Training in progress @ epoch 156.667, g_loss 0.849228, d_loss 1.24807 accuracy 0.6435\n",
      "Training in progress @ epoch 157.083, g_loss 0.96858, d_loss 1.24937 accuracy 0.6595\n",
      "Training in progress @ epoch 157.5, g_loss 0.868935, d_loss 1.2002 accuracy 0.665\n",
      "Training in progress @ epoch 157.917, g_loss 0.803794, d_loss 1.23269 accuracy 0.6645\n",
      "Training in progress @ epoch 158.333, g_loss 1.01191, d_loss 1.24453 accuracy 0.6505\n",
      "Training in progress @ epoch 158.75, g_loss 0.831119, d_loss 1.22368 accuracy 0.656\n",
      "Training in progress @ epoch 159.167, g_loss 0.91159, d_loss 1.25088 accuracy 0.6505\n",
      "Training in progress @ epoch 159.583, g_loss 0.956041, d_loss 1.25561 accuracy 0.638\n",
      "Training in progress @ epoch 160, g_loss 0.887973, d_loss 1.22156 accuracy 0.664\n",
      "Training in progress @ epoch 160.417, g_loss 0.805579, d_loss 1.21356 accuracy 0.6635\n",
      "Training in progress @ epoch 160.833, g_loss 0.850522, d_loss 1.24187 accuracy 0.66\n",
      "Training in progress @ epoch 161.25, g_loss 0.88798, d_loss 1.2328 accuracy 0.661\n",
      "Training in progress @ epoch 161.667, g_loss 0.979736, d_loss 1.24961 accuracy 0.6465\n",
      "Training in progress @ epoch 162.083, g_loss 0.857957, d_loss 1.22462 accuracy 0.663\n",
      "Training in progress @ epoch 162.5, g_loss 0.822094, d_loss 1.22744 accuracy 0.67\n",
      "Training in progress @ epoch 162.917, g_loss 0.894076, d_loss 1.22165 accuracy 0.6685\n"
     ]
    },
    {
     "name": "stdout",
     "output_type": "stream",
     "text": [
      "Training in progress @ epoch 163.333, g_loss 0.907241, d_loss 1.20294 accuracy 0.6925\n",
      "Training in progress @ epoch 163.75, g_loss 0.970199, d_loss 1.24177 accuracy 0.652\n",
      "Training in progress @ epoch 164.167, g_loss 0.900154, d_loss 1.23818 accuracy 0.6505\n",
      "Training in progress @ epoch 164.583, g_loss 0.917779, d_loss 1.24124 accuracy 0.654\n",
      "Training in progress @ epoch 165, g_loss 0.923353, d_loss 1.2201 accuracy 0.663\n",
      "Training in progress @ epoch 165.417, g_loss 1.01244, d_loss 1.24104 accuracy 0.658\n",
      "Training in progress @ epoch 165.833, g_loss 0.893039, d_loss 1.21354 accuracy 0.668\n",
      "Training in progress @ epoch 166.25, g_loss 0.868827, d_loss 1.20748 accuracy 0.6725\n",
      "Training in progress @ epoch 166.667, g_loss 0.871486, d_loss 1.26885 accuracy 0.647\n",
      "Training in progress @ epoch 167.083, g_loss 0.930776, d_loss 1.23934 accuracy 0.656\n",
      "Training in progress @ epoch 167.5, g_loss 0.863395, d_loss 1.24802 accuracy 0.658\n",
      "Training in progress @ epoch 167.917, g_loss 0.964903, d_loss 1.21436 accuracy 0.656\n",
      "Training in progress @ epoch 168.333, g_loss 0.834878, d_loss 1.2153 accuracy 0.6655\n",
      "Training in progress @ epoch 168.75, g_loss 0.833547, d_loss 1.2592 accuracy 0.64\n",
      "Training in progress @ epoch 169.167, g_loss 0.951123, d_loss 1.23633 accuracy 0.6605\n",
      "Training in progress @ epoch 169.583, g_loss 0.930866, d_loss 1.26732 accuracy 0.6385\n",
      "Training in progress @ epoch 170, g_loss 0.916481, d_loss 1.26069 accuracy 0.6475\n",
      "Training in progress @ epoch 170.417, g_loss 0.8832, d_loss 1.25022 accuracy 0.647\n",
      "Training in progress @ epoch 170.833, g_loss 0.855318, d_loss 1.22623 accuracy 0.6705\n",
      "Training in progress @ epoch 171.25, g_loss 0.913204, d_loss 1.23718 accuracy 0.6475\n",
      "Training in progress @ epoch 171.667, g_loss 0.967148, d_loss 1.226 accuracy 0.6495\n",
      "Training in progress @ epoch 172.083, g_loss 0.879097, d_loss 1.25924 accuracy 0.636\n",
      "Training in progress @ epoch 172.5, g_loss 1.00108, d_loss 1.19876 accuracy 0.6665\n",
      "Training in progress @ epoch 172.917, g_loss 0.867334, d_loss 1.24127 accuracy 0.6555\n",
      "Training in progress @ epoch 173.333, g_loss 0.845724, d_loss 1.23107 accuracy 0.655\n",
      "Training in progress @ epoch 173.75, g_loss 0.8725, d_loss 1.25633 accuracy 0.6445\n",
      "Training in progress @ epoch 174.167, g_loss 0.859411, d_loss 1.26684 accuracy 0.642\n",
      "Training in progress @ epoch 174.583, g_loss 0.894517, d_loss 1.2502 accuracy 0.643\n",
      "Training in progress @ epoch 175, g_loss 0.830366, d_loss 1.23822 accuracy 0.65\n",
      "Training in progress @ epoch 175.417, g_loss 0.835903, d_loss 1.21422 accuracy 0.657\n",
      "Training in progress @ epoch 175.833, g_loss 1.06607, d_loss 1.26097 accuracy 0.6535\n",
      "Training in progress @ epoch 176.25, g_loss 0.888095, d_loss 1.23218 accuracy 0.652\n",
      "Training in progress @ epoch 176.667, g_loss 0.827129, d_loss 1.23652 accuracy 0.6545\n",
      "Training in progress @ epoch 177.083, g_loss 0.977124, d_loss 1.22667 accuracy 0.6485\n",
      "Training in progress @ epoch 177.5, g_loss 0.832179, d_loss 1.21701 accuracy 0.6685\n",
      "Training in progress @ epoch 177.917, g_loss 0.940455, d_loss 1.21828 accuracy 0.6745\n",
      "Training in progress @ epoch 178.333, g_loss 0.843646, d_loss 1.21814 accuracy 0.673\n",
      "Training in progress @ epoch 178.75, g_loss 1.00586, d_loss 1.29005 accuracy 0.636\n",
      "Training in progress @ epoch 179.167, g_loss 0.905215, d_loss 1.23654 accuracy 0.6565\n",
      "Training in progress @ epoch 179.583, g_loss 0.905461, d_loss 1.23804 accuracy 0.65\n",
      "Training in progress @ epoch 180, g_loss 0.950909, d_loss 1.20443 accuracy 0.674\n",
      "Training in progress @ epoch 180.417, g_loss 0.895547, d_loss 1.25694 accuracy 0.6415\n",
      "Training in progress @ epoch 180.833, g_loss 0.922757, d_loss 1.23324 accuracy 0.653\n",
      "Training in progress @ epoch 181.25, g_loss 0.926316, d_loss 1.22054 accuracy 0.6685\n",
      "Training in progress @ epoch 181.667, g_loss 0.870879, d_loss 1.28608 accuracy 0.629\n",
      "Training in progress @ epoch 182.083, g_loss 0.754088, d_loss 1.26541 accuracy 0.6295\n",
      "Training in progress @ epoch 182.5, g_loss 0.88301, d_loss 1.23495 accuracy 0.6655\n",
      "Training in progress @ epoch 182.917, g_loss 0.949854, d_loss 1.24579 accuracy 0.651\n",
      "Training in progress @ epoch 183.333, g_loss 0.922774, d_loss 1.23669 accuracy 0.666\n",
      "Training in progress @ epoch 183.75, g_loss 0.800441, d_loss 1.26987 accuracy 0.6335\n",
      "Training in progress @ epoch 184.167, g_loss 0.907311, d_loss 1.27991 accuracy 0.6305\n",
      "Training in progress @ epoch 184.583, g_loss 0.894304, d_loss 1.2611 accuracy 0.6475\n",
      "Training in progress @ epoch 185, g_loss 0.887388, d_loss 1.22926 accuracy 0.6505\n",
      "Training in progress @ epoch 185.417, g_loss 0.897859, d_loss 1.23037 accuracy 0.6595\n",
      "Training in progress @ epoch 185.833, g_loss 0.898301, d_loss 1.25899 accuracy 0.6525\n",
      "Training in progress @ epoch 186.25, g_loss 0.834222, d_loss 1.25531 accuracy 0.64\n",
      "Training in progress @ epoch 186.667, g_loss 0.925607, d_loss 1.24464 accuracy 0.6465\n",
      "Training in progress @ epoch 187.083, g_loss 0.877409, d_loss 1.25353 accuracy 0.6435\n",
      "Training in progress @ epoch 187.5, g_loss 0.936993, d_loss 1.26453 accuracy 0.645\n",
      "Training in progress @ epoch 187.917, g_loss 0.913892, d_loss 1.23055 accuracy 0.666\n",
      "Training in progress @ epoch 188.333, g_loss 0.91374, d_loss 1.25069 accuracy 0.65\n",
      "Training in progress @ epoch 188.75, g_loss 0.893702, d_loss 1.26635 accuracy 0.6385\n",
      "Training in progress @ epoch 189.167, g_loss 0.950865, d_loss 1.25947 accuracy 0.632\n",
      "Training in progress @ epoch 189.583, g_loss 0.84531, d_loss 1.26409 accuracy 0.642\n",
      "Training in progress @ epoch 190, g_loss 0.882878, d_loss 1.27758 accuracy 0.62\n",
      "Training in progress @ epoch 190.417, g_loss 0.906823, d_loss 1.26159 accuracy 0.6475\n",
      "Training in progress @ epoch 190.833, g_loss 0.916936, d_loss 1.25988 accuracy 0.6395\n",
      "Training in progress @ epoch 191.25, g_loss 0.956147, d_loss 1.26341 accuracy 0.642\n",
      "Training in progress @ epoch 191.667, g_loss 0.880179, d_loss 1.23983 accuracy 0.658\n",
      "Training in progress @ epoch 192.083, g_loss 0.877909, d_loss 1.22936 accuracy 0.664\n",
      "Training in progress @ epoch 192.5, g_loss 0.836166, d_loss 1.24559 accuracy 0.644\n",
      "Training in progress @ epoch 192.917, g_loss 0.956241, d_loss 1.21158 accuracy 0.6605\n",
      "Training in progress @ epoch 193.333, g_loss 0.855501, d_loss 1.23162 accuracy 0.654\n",
      "Training in progress @ epoch 193.75, g_loss 0.829535, d_loss 1.24807 accuracy 0.6475\n",
      "Training in progress @ epoch 194.167, g_loss 0.805938, d_loss 1.26569 accuracy 0.628\n",
      "Training in progress @ epoch 194.583, g_loss 0.7645, d_loss 1.26591 accuracy 0.639\n",
      "Training in progress @ epoch 195, g_loss 0.937983, d_loss 1.25898 accuracy 0.6425\n",
      "Training in progress @ epoch 195.417, g_loss 0.814752, d_loss 1.26412 accuracy 0.649\n",
      "Training in progress @ epoch 195.833, g_loss 0.869849, d_loss 1.24581 accuracy 0.6525\n",
      "Training in progress @ epoch 196.25, g_loss 0.907135, d_loss 1.23065 accuracy 0.669\n",
      "Training in progress @ epoch 196.667, g_loss 0.909923, d_loss 1.23385 accuracy 0.6635\n",
      "Training in progress @ epoch 197.083, g_loss 0.821134, d_loss 1.26449 accuracy 0.638\n",
      "Training in progress @ epoch 197.5, g_loss 0.887463, d_loss 1.26235 accuracy 0.6415\n",
      "Training in progress @ epoch 197.917, g_loss 0.91481, d_loss 1.20015 accuracy 0.6695\n",
      "Training in progress @ epoch 198.333, g_loss 0.930964, d_loss 1.22214 accuracy 0.661\n",
      "Training in progress @ epoch 198.75, g_loss 0.729198, d_loss 1.25472 accuracy 0.6465\n",
      "Training in progress @ epoch 199.167, g_loss 0.877806, d_loss 1.27089 accuracy 0.64\n",
      "Training in progress @ epoch 199.583, g_loss 0.846982, d_loss 1.24687 accuracy 0.6515\n",
      "Training in progress @ epoch 200, g_loss 0.861846, d_loss 1.27464 accuracy 0.631\n",
      "Training in progress @ epoch 200.417, g_loss 0.890129, d_loss 1.21654 accuracy 0.67\n",
      "Training in progress @ epoch 200.833, g_loss 0.809877, d_loss 1.24826 accuracy 0.6485\n",
      "Training in progress @ epoch 201.25, g_loss 0.812305, d_loss 1.25546 accuracy 0.639\n",
      "Training in progress @ epoch 201.667, g_loss 0.860965, d_loss 1.24008 accuracy 0.655\n",
      "Training in progress @ epoch 202.083, g_loss 0.866036, d_loss 1.24812 accuracy 0.653\n",
      "Training in progress @ epoch 202.5, g_loss 0.936905, d_loss 1.2427 accuracy 0.6575\n",
      "Training in progress @ epoch 202.917, g_loss 0.889716, d_loss 1.21739 accuracy 0.678\n",
      "Training in progress @ epoch 203.333, g_loss 0.939719, d_loss 1.23058 accuracy 0.652\n"
     ]
    },
    {
     "name": "stdout",
     "output_type": "stream",
     "text": [
      "Training in progress @ epoch 203.75, g_loss 0.927273, d_loss 1.27733 accuracy 0.618\n",
      "Training in progress @ epoch 204.167, g_loss 0.883812, d_loss 1.27036 accuracy 0.6425\n",
      "Training in progress @ epoch 204.583, g_loss 0.849468, d_loss 1.25784 accuracy 0.644\n",
      "Training in progress @ epoch 205, g_loss 0.85957, d_loss 1.23724 accuracy 0.649\n",
      "Training in progress @ epoch 205.417, g_loss 0.839277, d_loss 1.25059 accuracy 0.6465\n",
      "Training in progress @ epoch 205.833, g_loss 0.834629, d_loss 1.27071 accuracy 0.6265\n",
      "Training in progress @ epoch 206.25, g_loss 0.832727, d_loss 1.2745 accuracy 0.6295\n",
      "Training in progress @ epoch 206.667, g_loss 0.786632, d_loss 1.26463 accuracy 0.626\n",
      "Training in progress @ epoch 207.083, g_loss 0.920301, d_loss 1.24693 accuracy 0.6485\n",
      "Training in progress @ epoch 207.5, g_loss 0.887835, d_loss 1.21743 accuracy 0.67\n",
      "Training in progress @ epoch 207.917, g_loss 0.973103, d_loss 1.24803 accuracy 0.648\n",
      "Training in progress @ epoch 208.333, g_loss 0.884259, d_loss 1.29385 accuracy 0.6195\n",
      "Training in progress @ epoch 208.75, g_loss 0.924287, d_loss 1.24015 accuracy 0.6445\n",
      "Training in progress @ epoch 209.167, g_loss 0.811471, d_loss 1.27525 accuracy 0.632\n",
      "Training in progress @ epoch 209.583, g_loss 0.903664, d_loss 1.25689 accuracy 0.645\n",
      "Training in progress @ epoch 210, g_loss 0.797249, d_loss 1.26125 accuracy 0.6505\n",
      "Training in progress @ epoch 210.417, g_loss 0.929153, d_loss 1.25731 accuracy 0.645\n",
      "Training in progress @ epoch 210.833, g_loss 0.886739, d_loss 1.24884 accuracy 0.643\n",
      "Training in progress @ epoch 211.25, g_loss 0.816259, d_loss 1.24788 accuracy 0.6475\n",
      "Training in progress @ epoch 211.667, g_loss 0.925106, d_loss 1.27115 accuracy 0.637\n",
      "Training in progress @ epoch 212.083, g_loss 0.850768, d_loss 1.24967 accuracy 0.6485\n",
      "Training in progress @ epoch 212.5, g_loss 0.952138, d_loss 1.29924 accuracy 0.6095\n",
      "Training in progress @ epoch 212.917, g_loss 0.883104, d_loss 1.29263 accuracy 0.618\n",
      "Training in progress @ epoch 213.333, g_loss 0.803959, d_loss 1.26433 accuracy 0.641\n",
      "Training in progress @ epoch 213.75, g_loss 0.91367, d_loss 1.27851 accuracy 0.63\n",
      "Training in progress @ epoch 214.167, g_loss 0.933223, d_loss 1.24939 accuracy 0.6475\n",
      "Training in progress @ epoch 214.583, g_loss 0.85514, d_loss 1.25917 accuracy 0.645\n",
      "Training in progress @ epoch 215, g_loss 0.864124, d_loss 1.27394 accuracy 0.6245\n",
      "Training in progress @ epoch 215.417, g_loss 0.902085, d_loss 1.27086 accuracy 0.631\n",
      "Training in progress @ epoch 215.833, g_loss 0.873968, d_loss 1.26817 accuracy 0.6455\n",
      "Training in progress @ epoch 216.25, g_loss 0.92677, d_loss 1.24815 accuracy 0.6555\n",
      "Training in progress @ epoch 216.667, g_loss 0.796323, d_loss 1.2586 accuracy 0.6365\n",
      "Training in progress @ epoch 217.083, g_loss 0.855912, d_loss 1.26311 accuracy 0.6405\n",
      "Training in progress @ epoch 217.5, g_loss 0.924114, d_loss 1.28188 accuracy 0.622\n",
      "Training in progress @ epoch 217.917, g_loss 0.791645, d_loss 1.27706 accuracy 0.637\n",
      "Training in progress @ epoch 218.333, g_loss 0.925492, d_loss 1.29561 accuracy 0.6155\n",
      "Training in progress @ epoch 218.75, g_loss 0.869946, d_loss 1.2778 accuracy 0.6345\n",
      "Training in progress @ epoch 219.167, g_loss 0.92168, d_loss 1.27634 accuracy 0.631\n",
      "Training in progress @ epoch 219.583, g_loss 0.744345, d_loss 1.27407 accuracy 0.637\n",
      "Training in progress @ epoch 220, g_loss 0.74534, d_loss 1.27163 accuracy 0.6285\n",
      "Training in progress @ epoch 220.417, g_loss 0.963267, d_loss 1.27846 accuracy 0.626\n",
      "Training in progress @ epoch 220.833, g_loss 0.874227, d_loss 1.2461 accuracy 0.6505\n",
      "Training in progress @ epoch 221.25, g_loss 0.88989, d_loss 1.2887 accuracy 0.629\n",
      "Training in progress @ epoch 221.667, g_loss 0.888649, d_loss 1.25398 accuracy 0.6335\n",
      "Training in progress @ epoch 222.083, g_loss 0.877198, d_loss 1.27528 accuracy 0.636\n",
      "Training in progress @ epoch 222.5, g_loss 0.855424, d_loss 1.24256 accuracy 0.6625\n",
      "Training in progress @ epoch 222.917, g_loss 0.786104, d_loss 1.27277 accuracy 0.637\n",
      "Training in progress @ epoch 223.333, g_loss 0.790067, d_loss 1.28624 accuracy 0.639\n",
      "Training in progress @ epoch 223.75, g_loss 0.863576, d_loss 1.2414 accuracy 0.644\n",
      "Training in progress @ epoch 224.167, g_loss 0.899191, d_loss 1.24656 accuracy 0.65\n",
      "Training in progress @ epoch 224.583, g_loss 0.85516, d_loss 1.23837 accuracy 0.643\n",
      "Training in progress @ epoch 225, g_loss 0.870742, d_loss 1.26181 accuracy 0.643\n",
      "Training in progress @ epoch 225.417, g_loss 0.803118, d_loss 1.27522 accuracy 0.6245\n",
      "Training in progress @ epoch 225.833, g_loss 0.855917, d_loss 1.27067 accuracy 0.6235\n",
      "Training in progress @ epoch 226.25, g_loss 0.858921, d_loss 1.20734 accuracy 0.672\n",
      "Training in progress @ epoch 226.667, g_loss 0.88662, d_loss 1.28794 accuracy 0.6245\n",
      "Training in progress @ epoch 227.083, g_loss 0.815778, d_loss 1.26127 accuracy 0.6325\n",
      "Training in progress @ epoch 227.5, g_loss 0.882661, d_loss 1.25515 accuracy 0.649\n",
      "Training in progress @ epoch 227.917, g_loss 0.933221, d_loss 1.27897 accuracy 0.636\n",
      "Training in progress @ epoch 228.333, g_loss 0.932053, d_loss 1.27117 accuracy 0.643\n",
      "Training in progress @ epoch 228.75, g_loss 0.859356, d_loss 1.27535 accuracy 0.6425\n",
      "Training in progress @ epoch 229.167, g_loss 0.882851, d_loss 1.30954 accuracy 0.6115\n",
      "Training in progress @ epoch 229.583, g_loss 0.871377, d_loss 1.2892 accuracy 0.618\n",
      "Training in progress @ epoch 230, g_loss 0.882216, d_loss 1.2547 accuracy 0.639\n",
      "Training in progress @ epoch 230.417, g_loss 0.829166, d_loss 1.29344 accuracy 0.623\n",
      "Training in progress @ epoch 230.833, g_loss 0.81732, d_loss 1.26529 accuracy 0.633\n",
      "Training in progress @ epoch 231.25, g_loss 0.776026, d_loss 1.29184 accuracy 0.636\n",
      "Training in progress @ epoch 231.667, g_loss 0.905487, d_loss 1.28664 accuracy 0.636\n",
      "Training in progress @ epoch 232.083, g_loss 0.916904, d_loss 1.25628 accuracy 0.6335\n",
      "Training in progress @ epoch 232.5, g_loss 0.764855, d_loss 1.29273 accuracy 0.617\n",
      "Training in progress @ epoch 232.917, g_loss 0.810627, d_loss 1.26072 accuracy 0.652\n",
      "Training in progress @ epoch 233.333, g_loss 0.790292, d_loss 1.25365 accuracy 0.6255\n",
      "Training in progress @ epoch 233.75, g_loss 0.806476, d_loss 1.29158 accuracy 0.637\n",
      "Training in progress @ epoch 234.167, g_loss 0.779463, d_loss 1.27696 accuracy 0.6255\n",
      "Training in progress @ epoch 234.583, g_loss 0.884041, d_loss 1.27599 accuracy 0.6405\n",
      "Training in progress @ epoch 235, g_loss 0.889714, d_loss 1.28932 accuracy 0.6225\n",
      "Training in progress @ epoch 235.417, g_loss 0.864785, d_loss 1.27526 accuracy 0.64\n",
      "Training in progress @ epoch 235.833, g_loss 0.848662, d_loss 1.27557 accuracy 0.62\n",
      "Training in progress @ epoch 236.25, g_loss 0.876269, d_loss 1.24629 accuracy 0.6435\n",
      "Training in progress @ epoch 236.667, g_loss 0.798648, d_loss 1.28178 accuracy 0.62\n",
      "Training in progress @ epoch 237.083, g_loss 0.852181, d_loss 1.29775 accuracy 0.625\n",
      "Training in progress @ epoch 237.5, g_loss 0.884576, d_loss 1.25673 accuracy 0.6425\n",
      "Training in progress @ epoch 237.917, g_loss 0.954561, d_loss 1.28935 accuracy 0.629\n",
      "Training in progress @ epoch 238.333, g_loss 0.899403, d_loss 1.25899 accuracy 0.644\n",
      "Training in progress @ epoch 238.75, g_loss 0.731119, d_loss 1.30077 accuracy 0.6105\n",
      "Training in progress @ epoch 239.167, g_loss 0.843892, d_loss 1.2928 accuracy 0.617\n",
      "Training in progress @ epoch 239.583, g_loss 0.99469, d_loss 1.28896 accuracy 0.6245\n",
      "Training in progress @ epoch 240, g_loss 0.817669, d_loss 1.28398 accuracy 0.628\n",
      "Training in progress @ epoch 240.417, g_loss 0.94383, d_loss 1.27844 accuracy 0.626\n",
      "Training in progress @ epoch 240.833, g_loss 0.858271, d_loss 1.30682 accuracy 0.6115\n",
      "Training in progress @ epoch 241.25, g_loss 0.880078, d_loss 1.27042 accuracy 0.6335\n",
      "Training in progress @ epoch 241.667, g_loss 0.821904, d_loss 1.23718 accuracy 0.659\n",
      "Training in progress @ epoch 242.083, g_loss 0.924868, d_loss 1.2586 accuracy 0.6395\n",
      "Training in progress @ epoch 242.5, g_loss 0.93341, d_loss 1.26542 accuracy 0.6205\n",
      "Training in progress @ epoch 242.917, g_loss 0.818676, d_loss 1.25746 accuracy 0.6355\n",
      "Training in progress @ epoch 243.333, g_loss 0.816237, d_loss 1.2567 accuracy 0.6365\n",
      "Training in progress @ epoch 243.75, g_loss 0.913702, d_loss 1.29456 accuracy 0.619\n"
     ]
    },
    {
     "name": "stdout",
     "output_type": "stream",
     "text": [
      "Training in progress @ epoch 244.167, g_loss 0.853192, d_loss 1.32751 accuracy 0.6045\n",
      "Training in progress @ epoch 244.583, g_loss 0.84864, d_loss 1.30144 accuracy 0.613\n",
      "Training in progress @ epoch 245, g_loss 0.887333, d_loss 1.25163 accuracy 0.6455\n",
      "Training in progress @ epoch 245.417, g_loss 0.778733, d_loss 1.25089 accuracy 0.654\n",
      "Training in progress @ epoch 245.833, g_loss 0.864034, d_loss 1.31286 accuracy 0.606\n",
      "Training in progress @ epoch 246.25, g_loss 0.855892, d_loss 1.25172 accuracy 0.645\n",
      "Training in progress @ epoch 246.667, g_loss 0.96025, d_loss 1.29829 accuracy 0.6165\n",
      "Training in progress @ epoch 247.083, g_loss 0.842217, d_loss 1.28435 accuracy 0.629\n",
      "Training in progress @ epoch 247.5, g_loss 0.928294, d_loss 1.27174 accuracy 0.6335\n",
      "Training in progress @ epoch 247.917, g_loss 0.878043, d_loss 1.25608 accuracy 0.6495\n",
      "Training in progress @ epoch 248.333, g_loss 0.829026, d_loss 1.25691 accuracy 0.6385\n",
      "Training in progress @ epoch 248.75, g_loss 0.876646, d_loss 1.2776 accuracy 0.625\n",
      "Training in progress @ epoch 249.167, g_loss 0.848245, d_loss 1.27239 accuracy 0.63\n",
      "Training in progress @ epoch 249.583, g_loss 0.90769, d_loss 1.26159 accuracy 0.635\n",
      "Training in progress @ epoch 250, g_loss 0.858005, d_loss 1.29654 accuracy 0.6305\n",
      "Training in progress @ epoch 250.417, g_loss 0.930261, d_loss 1.25468 accuracy 0.653\n",
      "Training in progress @ epoch 250.833, g_loss 0.808452, d_loss 1.26505 accuracy 0.6375\n",
      "Training in progress @ epoch 251.25, g_loss 0.850561, d_loss 1.26209 accuracy 0.639\n",
      "Training in progress @ epoch 251.667, g_loss 0.883544, d_loss 1.26758 accuracy 0.6455\n",
      "Training in progress @ epoch 252.083, g_loss 0.850361, d_loss 1.25131 accuracy 0.6485\n",
      "Training in progress @ epoch 252.5, g_loss 0.774778, d_loss 1.30298 accuracy 0.6145\n",
      "Training in progress @ epoch 252.917, g_loss 0.764845, d_loss 1.24467 accuracy 0.651\n",
      "Training in progress @ epoch 253.333, g_loss 0.834153, d_loss 1.2825 accuracy 0.62\n",
      "Training in progress @ epoch 253.75, g_loss 0.915031, d_loss 1.27158 accuracy 0.632\n",
      "Training in progress @ epoch 254.167, g_loss 0.902197, d_loss 1.3111 accuracy 0.611\n",
      "Training in progress @ epoch 254.583, g_loss 0.824903, d_loss 1.26471 accuracy 0.649\n",
      "Training in progress @ epoch 255, g_loss 0.82484, d_loss 1.25712 accuracy 0.655\n",
      "Training in progress @ epoch 255.417, g_loss 0.833037, d_loss 1.2497 accuracy 0.651\n",
      "Training in progress @ epoch 255.833, g_loss 0.914059, d_loss 1.27319 accuracy 0.631\n",
      "Training in progress @ epoch 256.25, g_loss 0.838919, d_loss 1.25956 accuracy 0.6475\n",
      "Training in progress @ epoch 256.667, g_loss 0.854159, d_loss 1.28254 accuracy 0.629\n",
      "Training in progress @ epoch 257.083, g_loss 0.822528, d_loss 1.26909 accuracy 0.6385\n",
      "Training in progress @ epoch 257.5, g_loss 0.841132, d_loss 1.26382 accuracy 0.6445\n",
      "Training in progress @ epoch 257.917, g_loss 0.720315, d_loss 1.29767 accuracy 0.6205\n",
      "Training in progress @ epoch 258.333, g_loss 0.896951, d_loss 1.26021 accuracy 0.642\n",
      "Training in progress @ epoch 258.75, g_loss 0.856969, d_loss 1.30239 accuracy 0.6235\n",
      "Training in progress @ epoch 259.167, g_loss 0.883411, d_loss 1.27119 accuracy 0.638\n",
      "Training in progress @ epoch 259.583, g_loss 0.838994, d_loss 1.25777 accuracy 0.6305\n",
      "Training in progress @ epoch 260, g_loss 0.910587, d_loss 1.29075 accuracy 0.623\n",
      "Training in progress @ epoch 260.417, g_loss 0.903769, d_loss 1.28183 accuracy 0.6255\n",
      "Training in progress @ epoch 260.833, g_loss 0.914927, d_loss 1.28667 accuracy 0.618\n",
      "Training in progress @ epoch 261.25, g_loss 0.858932, d_loss 1.29594 accuracy 0.6205\n",
      "Training in progress @ epoch 261.667, g_loss 0.890465, d_loss 1.31322 accuracy 0.615\n",
      "Training in progress @ epoch 262.083, g_loss 0.818162, d_loss 1.28916 accuracy 0.62\n",
      "Training in progress @ epoch 262.5, g_loss 0.74266, d_loss 1.27668 accuracy 0.626\n",
      "Training in progress @ epoch 262.917, g_loss 0.793914, d_loss 1.25658 accuracy 0.6355\n",
      "Training in progress @ epoch 263.333, g_loss 0.93269, d_loss 1.29089 accuracy 0.6195\n",
      "Training in progress @ epoch 263.75, g_loss 0.860362, d_loss 1.26541 accuracy 0.6465\n",
      "Training in progress @ epoch 264.167, g_loss 0.808692, d_loss 1.29511 accuracy 0.6175\n",
      "Training in progress @ epoch 264.583, g_loss 0.860837, d_loss 1.24189 accuracy 0.6565\n",
      "Training in progress @ epoch 265, g_loss 0.891772, d_loss 1.29724 accuracy 0.6095\n",
      "Training in progress @ epoch 265.417, g_loss 0.865275, d_loss 1.28537 accuracy 0.6125\n",
      "Training in progress @ epoch 265.833, g_loss 0.871176, d_loss 1.23415 accuracy 0.6695\n",
      "Training in progress @ epoch 266.25, g_loss 0.770116, d_loss 1.2534 accuracy 0.635\n",
      "Training in progress @ epoch 266.667, g_loss 0.813681, d_loss 1.29833 accuracy 0.623\n",
      "Training in progress @ epoch 267.083, g_loss 0.855289, d_loss 1.31726 accuracy 0.6075\n",
      "Training in progress @ epoch 267.5, g_loss 0.879329, d_loss 1.25085 accuracy 0.6435\n",
      "Training in progress @ epoch 267.917, g_loss 0.80075, d_loss 1.27664 accuracy 0.6175\n",
      "Training in progress @ epoch 268.333, g_loss 0.891495, d_loss 1.28283 accuracy 0.622\n",
      "Training in progress @ epoch 268.75, g_loss 0.889337, d_loss 1.27033 accuracy 0.6335\n",
      "Training in progress @ epoch 269.167, g_loss 0.786059, d_loss 1.293 accuracy 0.6115\n",
      "Training in progress @ epoch 269.583, g_loss 0.868104, d_loss 1.25584 accuracy 0.642\n",
      "Training in progress @ epoch 270, g_loss 0.978032, d_loss 1.29455 accuracy 0.622\n",
      "Training in progress @ epoch 270.417, g_loss 0.812485, d_loss 1.27555 accuracy 0.632\n",
      "Training in progress @ epoch 270.833, g_loss 0.815671, d_loss 1.2862 accuracy 0.63\n",
      "Training in progress @ epoch 271.25, g_loss 0.781932, d_loss 1.26636 accuracy 0.623\n",
      "Training in progress @ epoch 271.667, g_loss 0.84117, d_loss 1.25907 accuracy 0.6235\n",
      "Training in progress @ epoch 272.083, g_loss 0.806349, d_loss 1.2864 accuracy 0.6295\n",
      "Training in progress @ epoch 272.5, g_loss 0.838318, d_loss 1.28214 accuracy 0.6205\n",
      "Training in progress @ epoch 272.917, g_loss 0.763926, d_loss 1.28458 accuracy 0.6185\n",
      "Training in progress @ epoch 273.333, g_loss 0.855423, d_loss 1.27864 accuracy 0.627\n",
      "Training in progress @ epoch 273.75, g_loss 0.835966, d_loss 1.26025 accuracy 0.6335\n",
      "Training in progress @ epoch 274.167, g_loss 0.83635, d_loss 1.26409 accuracy 0.645\n",
      "Training in progress @ epoch 274.583, g_loss 0.805942, d_loss 1.24728 accuracy 0.645\n",
      "Training in progress @ epoch 275, g_loss 0.835473, d_loss 1.24446 accuracy 0.647\n",
      "Training in progress @ epoch 275.417, g_loss 0.910343, d_loss 1.26472 accuracy 0.643\n",
      "Training in progress @ epoch 275.833, g_loss 0.846192, d_loss 1.29225 accuracy 0.6225\n",
      "Training in progress @ epoch 276.25, g_loss 0.886448, d_loss 1.27092 accuracy 0.6395\n",
      "Training in progress @ epoch 276.667, g_loss 0.912492, d_loss 1.28389 accuracy 0.632\n",
      "Training in progress @ epoch 277.083, g_loss 0.93117, d_loss 1.26869 accuracy 0.6335\n",
      "Training in progress @ epoch 277.5, g_loss 0.811937, d_loss 1.28619 accuracy 0.626\n",
      "Training in progress @ epoch 277.917, g_loss 0.770195, d_loss 1.28354 accuracy 0.6295\n",
      "Training in progress @ epoch 278.333, g_loss 0.876309, d_loss 1.27554 accuracy 0.633\n",
      "Training in progress @ epoch 278.75, g_loss 0.755352, d_loss 1.29109 accuracy 0.619\n",
      "Training in progress @ epoch 279.167, g_loss 0.876735, d_loss 1.25978 accuracy 0.6515\n",
      "Training in progress @ epoch 279.583, g_loss 0.868994, d_loss 1.29178 accuracy 0.628\n",
      "Training in progress @ epoch 280, g_loss 0.828555, d_loss 1.27985 accuracy 0.631\n",
      "Training in progress @ epoch 280.417, g_loss 0.869621, d_loss 1.25613 accuracy 0.642\n",
      "Training in progress @ epoch 280.833, g_loss 0.845422, d_loss 1.26739 accuracy 0.6355\n",
      "Training in progress @ epoch 281.25, g_loss 0.922336, d_loss 1.29796 accuracy 0.62\n",
      "Training in progress @ epoch 281.667, g_loss 0.82672, d_loss 1.31971 accuracy 0.597\n",
      "Training in progress @ epoch 282.083, g_loss 0.824385, d_loss 1.27993 accuracy 0.6335\n",
      "Training in progress @ epoch 282.5, g_loss 0.839963, d_loss 1.27812 accuracy 0.632\n",
      "Training in progress @ epoch 282.917, g_loss 0.856614, d_loss 1.27162 accuracy 0.6435\n",
      "Training in progress @ epoch 283.333, g_loss 0.862422, d_loss 1.30595 accuracy 0.621\n",
      "Training in progress @ epoch 283.75, g_loss 0.884782, d_loss 1.28016 accuracy 0.619\n",
      "Training in progress @ epoch 284.167, g_loss 0.777018, d_loss 1.29323 accuracy 0.62\n"
     ]
    },
    {
     "name": "stdout",
     "output_type": "stream",
     "text": [
      "Training in progress @ epoch 284.583, g_loss 0.825729, d_loss 1.28355 accuracy 0.6265\n",
      "Training in progress @ epoch 285, g_loss 0.890844, d_loss 1.29445 accuracy 0.612\n",
      "Training in progress @ epoch 285.417, g_loss 0.764369, d_loss 1.28974 accuracy 0.6265\n",
      "Training in progress @ epoch 285.833, g_loss 0.872109, d_loss 1.30261 accuracy 0.615\n",
      "Training in progress @ epoch 286.25, g_loss 0.871325, d_loss 1.26088 accuracy 0.635\n",
      "Training in progress @ epoch 286.667, g_loss 0.791296, d_loss 1.28666 accuracy 0.6285\n",
      "Training in progress @ epoch 287.083, g_loss 0.883393, d_loss 1.28132 accuracy 0.6315\n",
      "Training in progress @ epoch 287.5, g_loss 0.809648, d_loss 1.29666 accuracy 0.6255\n",
      "Training in progress @ epoch 287.917, g_loss 0.783793, d_loss 1.31408 accuracy 0.609\n",
      "Training in progress @ epoch 288.333, g_loss 0.852923, d_loss 1.26579 accuracy 0.6385\n",
      "Training in progress @ epoch 288.75, g_loss 0.789111, d_loss 1.29132 accuracy 0.6125\n",
      "Training in progress @ epoch 289.167, g_loss 0.754431, d_loss 1.28975 accuracy 0.6265\n",
      "Training in progress @ epoch 289.583, g_loss 0.87138, d_loss 1.29747 accuracy 0.6235\n",
      "Training in progress @ epoch 290, g_loss 0.805624, d_loss 1.31443 accuracy 0.6115\n",
      "Training in progress @ epoch 290.417, g_loss 0.801563, d_loss 1.27682 accuracy 0.635\n",
      "Training in progress @ epoch 290.833, g_loss 0.857103, d_loss 1.28919 accuracy 0.623\n",
      "Training in progress @ epoch 291.25, g_loss 0.983775, d_loss 1.30687 accuracy 0.612\n",
      "Training in progress @ epoch 291.667, g_loss 0.737826, d_loss 1.30019 accuracy 0.6175\n",
      "Training in progress @ epoch 292.083, g_loss 0.807567, d_loss 1.2644 accuracy 0.616\n",
      "Training in progress @ epoch 292.5, g_loss 0.793416, d_loss 1.28617 accuracy 0.6215\n",
      "Training in progress @ epoch 292.917, g_loss 0.810085, d_loss 1.2897 accuracy 0.616\n",
      "Training in progress @ epoch 293.333, g_loss 0.860317, d_loss 1.29194 accuracy 0.6135\n",
      "Training in progress @ epoch 293.75, g_loss 0.936385, d_loss 1.284 accuracy 0.6335\n",
      "Training in progress @ epoch 294.167, g_loss 0.910562, d_loss 1.27392 accuracy 0.6375\n",
      "Training in progress @ epoch 294.583, g_loss 0.873004, d_loss 1.29612 accuracy 0.6175\n",
      "Training in progress @ epoch 295, g_loss 0.834808, d_loss 1.28691 accuracy 0.631\n",
      "Training in progress @ epoch 295.417, g_loss 0.869434, d_loss 1.28668 accuracy 0.615\n",
      "Training in progress @ epoch 295.833, g_loss 0.892424, d_loss 1.29808 accuracy 0.614\n",
      "Training in progress @ epoch 296.25, g_loss 0.833368, d_loss 1.28779 accuracy 0.622\n",
      "Training in progress @ epoch 296.667, g_loss 0.829665, d_loss 1.27791 accuracy 0.626\n",
      "Training in progress @ epoch 297.083, g_loss 0.773595, d_loss 1.30133 accuracy 0.61\n",
      "Training in progress @ epoch 297.5, g_loss 0.785286, d_loss 1.28718 accuracy 0.6305\n",
      "Training in progress @ epoch 297.917, g_loss 0.774136, d_loss 1.30764 accuracy 0.618\n",
      "Training in progress @ epoch 298.333, g_loss 0.869709, d_loss 1.28052 accuracy 0.635\n",
      "Training in progress @ epoch 298.75, g_loss 0.871871, d_loss 1.27107 accuracy 0.631\n",
      "Training in progress @ epoch 299.167, g_loss 0.830634, d_loss 1.28697 accuracy 0.6185\n",
      "Training in progress @ epoch 299.583, g_loss 0.880455, d_loss 1.2606 accuracy 0.64\n",
      "Training in progress @ epoch 300, g_loss 0.878126, d_loss 1.2857 accuracy 0.626\n",
      "Training in progress @ epoch 300.417, g_loss 0.913438, d_loss 1.29355 accuracy 0.6275\n",
      "Training in progress @ epoch 300.833, g_loss 0.853054, d_loss 1.27057 accuracy 0.647\n",
      "Training in progress @ epoch 301.25, g_loss 0.808368, d_loss 1.26903 accuracy 0.6335\n",
      "Training in progress @ epoch 301.667, g_loss 0.815884, d_loss 1.30164 accuracy 0.618\n",
      "Training in progress @ epoch 302.083, g_loss 0.834426, d_loss 1.28294 accuracy 0.6245\n",
      "Training in progress @ epoch 302.5, g_loss 0.857207, d_loss 1.32459 accuracy 0.598\n",
      "Training in progress @ epoch 302.917, g_loss 0.779784, d_loss 1.25797 accuracy 0.6345\n",
      "Training in progress @ epoch 303.333, g_loss 0.857047, d_loss 1.28567 accuracy 0.618\n",
      "Training in progress @ epoch 303.75, g_loss 0.857612, d_loss 1.27409 accuracy 0.65\n",
      "Training in progress @ epoch 304.167, g_loss 0.820559, d_loss 1.25716 accuracy 0.636\n",
      "Training in progress @ epoch 304.583, g_loss 0.844671, d_loss 1.2914 accuracy 0.616\n",
      "Training in progress @ epoch 305, g_loss 0.820306, d_loss 1.25964 accuracy 0.651\n",
      "Training in progress @ epoch 305.417, g_loss 0.897065, d_loss 1.30199 accuracy 0.614\n",
      "Training in progress @ epoch 305.833, g_loss 0.859593, d_loss 1.28365 accuracy 0.6415\n",
      "Training in progress @ epoch 306.25, g_loss 0.899101, d_loss 1.26977 accuracy 0.6445\n",
      "Training in progress @ epoch 306.667, g_loss 0.81542, d_loss 1.26919 accuracy 0.6285\n",
      "Training in progress @ epoch 307.083, g_loss 0.832516, d_loss 1.27679 accuracy 0.631\n",
      "Training in progress @ epoch 307.5, g_loss 0.809445, d_loss 1.28867 accuracy 0.6305\n",
      "Training in progress @ epoch 307.917, g_loss 0.770558, d_loss 1.28934 accuracy 0.6245\n",
      "Training in progress @ epoch 308.333, g_loss 0.857867, d_loss 1.30568 accuracy 0.604\n",
      "Training in progress @ epoch 308.75, g_loss 0.786485, d_loss 1.27194 accuracy 0.6305\n",
      "Training in progress @ epoch 309.167, g_loss 0.870884, d_loss 1.28265 accuracy 0.623\n",
      "Training in progress @ epoch 309.583, g_loss 0.77617, d_loss 1.2827 accuracy 0.6225\n",
      "Training in progress @ epoch 310, g_loss 0.818442, d_loss 1.27318 accuracy 0.635\n",
      "Training in progress @ epoch 310.417, g_loss 0.810901, d_loss 1.30076 accuracy 0.6045\n",
      "Training in progress @ epoch 310.833, g_loss 0.875738, d_loss 1.27454 accuracy 0.6385\n",
      "Training in progress @ epoch 311.25, g_loss 0.815935, d_loss 1.31591 accuracy 0.609\n",
      "Training in progress @ epoch 311.667, g_loss 0.758786, d_loss 1.28974 accuracy 0.6225\n",
      "Training in progress @ epoch 312.083, g_loss 0.803393, d_loss 1.31257 accuracy 0.6135\n",
      "Training in progress @ epoch 312.5, g_loss 0.796726, d_loss 1.26789 accuracy 0.6485\n",
      "Training in progress @ epoch 312.917, g_loss 0.837251, d_loss 1.26455 accuracy 0.6365\n",
      "Training in progress @ epoch 313.333, g_loss 0.875281, d_loss 1.28771 accuracy 0.6105\n",
      "Training in progress @ epoch 313.75, g_loss 0.840913, d_loss 1.29742 accuracy 0.6145\n",
      "Training in progress @ epoch 314.167, g_loss 0.905221, d_loss 1.31847 accuracy 0.609\n",
      "Training in progress @ epoch 314.583, g_loss 0.842382, d_loss 1.29843 accuracy 0.6155\n",
      "Training in progress @ epoch 315, g_loss 0.794143, d_loss 1.28843 accuracy 0.621\n",
      "Training in progress @ epoch 315.417, g_loss 0.863723, d_loss 1.25441 accuracy 0.648\n",
      "Training in progress @ epoch 315.833, g_loss 0.928364, d_loss 1.24804 accuracy 0.648\n",
      "Training in progress @ epoch 316.25, g_loss 0.7928, d_loss 1.2735 accuracy 0.6175\n",
      "Training in progress @ epoch 316.667, g_loss 0.780219, d_loss 1.29227 accuracy 0.6135\n",
      "Training in progress @ epoch 317.083, g_loss 0.817792, d_loss 1.29319 accuracy 0.623\n",
      "Training in progress @ epoch 317.5, g_loss 0.781248, d_loss 1.317 accuracy 0.592\n",
      "Training in progress @ epoch 317.917, g_loss 0.771693, d_loss 1.31277 accuracy 0.609\n",
      "Training in progress @ epoch 318.333, g_loss 0.75524, d_loss 1.30745 accuracy 0.6085\n",
      "Training in progress @ epoch 318.75, g_loss 0.889366, d_loss 1.27951 accuracy 0.62\n",
      "Training in progress @ epoch 319.167, g_loss 0.869663, d_loss 1.26824 accuracy 0.6395\n",
      "Training in progress @ epoch 319.583, g_loss 0.755423, d_loss 1.30775 accuracy 0.6085\n",
      "Training in progress @ epoch 320, g_loss 0.843776, d_loss 1.2708 accuracy 0.645\n",
      "Training in progress @ epoch 320.417, g_loss 0.846658, d_loss 1.26426 accuracy 0.653\n",
      "Training in progress @ epoch 320.833, g_loss 0.885732, d_loss 1.30129 accuracy 0.623\n",
      "Training in progress @ epoch 321.25, g_loss 0.853241, d_loss 1.29466 accuracy 0.606\n",
      "Training in progress @ epoch 321.667, g_loss 0.794878, d_loss 1.28052 accuracy 0.6285\n",
      "Training in progress @ epoch 322.083, g_loss 0.879075, d_loss 1.30564 accuracy 0.6145\n",
      "Training in progress @ epoch 322.5, g_loss 0.794031, d_loss 1.27857 accuracy 0.625\n",
      "Training in progress @ epoch 322.917, g_loss 0.84063, d_loss 1.27323 accuracy 0.629\n",
      "Training in progress @ epoch 323.333, g_loss 0.837552, d_loss 1.26629 accuracy 0.63\n",
      "Training in progress @ epoch 323.75, g_loss 0.850626, d_loss 1.29473 accuracy 0.61\n",
      "Training in progress @ epoch 324.167, g_loss 0.812618, d_loss 1.26169 accuracy 0.643\n",
      "Training in progress @ epoch 324.583, g_loss 0.839614, d_loss 1.28672 accuracy 0.618\n"
     ]
    },
    {
     "name": "stdout",
     "output_type": "stream",
     "text": [
      "Training in progress @ epoch 325, g_loss 0.819154, d_loss 1.25903 accuracy 0.6455\n",
      "Training in progress @ epoch 325.417, g_loss 0.832665, d_loss 1.26613 accuracy 0.6455\n",
      "Training in progress @ epoch 325.833, g_loss 0.911475, d_loss 1.28743 accuracy 0.623\n",
      "Training in progress @ epoch 326.25, g_loss 0.704798, d_loss 1.31215 accuracy 0.601\n",
      "Training in progress @ epoch 326.667, g_loss 0.93679, d_loss 1.30591 accuracy 0.608\n",
      "Training in progress @ epoch 327.083, g_loss 0.768676, d_loss 1.28346 accuracy 0.622\n",
      "Training in progress @ epoch 327.5, g_loss 0.762001, d_loss 1.29202 accuracy 0.628\n",
      "Training in progress @ epoch 327.917, g_loss 0.774197, d_loss 1.28906 accuracy 0.63\n",
      "Training in progress @ epoch 328.333, g_loss 0.867358, d_loss 1.28896 accuracy 0.6225\n",
      "Training in progress @ epoch 328.75, g_loss 0.774985, d_loss 1.2958 accuracy 0.6225\n",
      "Training in progress @ epoch 329.167, g_loss 0.857003, d_loss 1.27087 accuracy 0.6395\n",
      "Training in progress @ epoch 329.583, g_loss 0.850879, d_loss 1.26942 accuracy 0.6355\n",
      "Training in progress @ epoch 330, g_loss 0.788195, d_loss 1.28369 accuracy 0.636\n",
      "Training in progress @ epoch 330.417, g_loss 0.860717, d_loss 1.28503 accuracy 0.631\n",
      "Training in progress @ epoch 330.833, g_loss 0.869721, d_loss 1.29681 accuracy 0.6145\n",
      "Training in progress @ epoch 331.25, g_loss 0.879629, d_loss 1.29715 accuracy 0.622\n",
      "Training in progress @ epoch 331.667, g_loss 0.893317, d_loss 1.30194 accuracy 0.6115\n",
      "Training in progress @ epoch 332.083, g_loss 0.899341, d_loss 1.30028 accuracy 0.623\n",
      "Training in progress @ epoch 332.5, g_loss 0.837536, d_loss 1.30204 accuracy 0.6205\n",
      "Training in progress @ epoch 332.917, g_loss 0.891952, d_loss 1.29373 accuracy 0.6155\n",
      "Training in progress @ epoch 333.333, g_loss 0.767424, d_loss 1.29945 accuracy 0.6175\n",
      "Training in progress @ epoch 333.75, g_loss 0.811537, d_loss 1.28548 accuracy 0.641\n",
      "Training in progress @ epoch 334.167, g_loss 0.918125, d_loss 1.26391 accuracy 0.637\n",
      "Training in progress @ epoch 334.583, g_loss 0.895849, d_loss 1.28657 accuracy 0.628\n",
      "Training in progress @ epoch 335, g_loss 0.915514, d_loss 1.29401 accuracy 0.6245\n",
      "Training in progress @ epoch 335.417, g_loss 0.849804, d_loss 1.29183 accuracy 0.624\n",
      "Training in progress @ epoch 335.833, g_loss 0.83091, d_loss 1.28558 accuracy 0.614\n",
      "Training in progress @ epoch 336.25, g_loss 0.868875, d_loss 1.27054 accuracy 0.632\n",
      "Training in progress @ epoch 336.667, g_loss 0.87424, d_loss 1.29556 accuracy 0.608\n",
      "Training in progress @ epoch 337.083, g_loss 0.773495, d_loss 1.278 accuracy 0.62\n",
      "Training in progress @ epoch 337.5, g_loss 0.915176, d_loss 1.27938 accuracy 0.6275\n",
      "Training in progress @ epoch 337.917, g_loss 0.783026, d_loss 1.30093 accuracy 0.613\n",
      "Training in progress @ epoch 338.333, g_loss 0.74509, d_loss 1.27056 accuracy 0.6375\n",
      "Training in progress @ epoch 338.75, g_loss 0.844931, d_loss 1.29206 accuracy 0.6215\n",
      "Training in progress @ epoch 339.167, g_loss 0.783006, d_loss 1.30492 accuracy 0.6225\n",
      "Training in progress @ epoch 339.583, g_loss 0.826381, d_loss 1.29018 accuracy 0.6355\n",
      "Training in progress @ epoch 340, g_loss 0.755832, d_loss 1.28792 accuracy 0.627\n",
      "Training in progress @ epoch 340.417, g_loss 0.783148, d_loss 1.306 accuracy 0.6245\n",
      "Training in progress @ epoch 340.833, g_loss 0.766716, d_loss 1.28007 accuracy 0.6225\n",
      "Training in progress @ epoch 341.25, g_loss 0.844133, d_loss 1.2663 accuracy 0.6475\n",
      "Training in progress @ epoch 341.667, g_loss 0.921013, d_loss 1.28774 accuracy 0.622\n",
      "Training in progress @ epoch 342.083, g_loss 0.791051, d_loss 1.30223 accuracy 0.6195\n",
      "Training in progress @ epoch 342.5, g_loss 0.807806, d_loss 1.30507 accuracy 0.604\n",
      "Training in progress @ epoch 342.917, g_loss 0.866545, d_loss 1.28052 accuracy 0.622\n",
      "Training in progress @ epoch 343.333, g_loss 0.895943, d_loss 1.31409 accuracy 0.603\n",
      "Training in progress @ epoch 343.75, g_loss 0.88919, d_loss 1.31057 accuracy 0.6\n",
      "Training in progress @ epoch 344.167, g_loss 0.85676, d_loss 1.29128 accuracy 0.619\n",
      "Training in progress @ epoch 344.583, g_loss 0.844454, d_loss 1.28016 accuracy 0.614\n",
      "Training in progress @ epoch 345, g_loss 0.780413, d_loss 1.29375 accuracy 0.612\n",
      "Training in progress @ epoch 345.417, g_loss 0.896928, d_loss 1.31437 accuracy 0.6015\n",
      "Training in progress @ epoch 345.833, g_loss 0.876182, d_loss 1.30046 accuracy 0.6195\n",
      "Training in progress @ epoch 346.25, g_loss 0.853441, d_loss 1.28757 accuracy 0.617\n",
      "Training in progress @ epoch 346.667, g_loss 0.855679, d_loss 1.2869 accuracy 0.6295\n",
      "Training in progress @ epoch 347.083, g_loss 0.808865, d_loss 1.29273 accuracy 0.6325\n",
      "Training in progress @ epoch 347.5, g_loss 0.92579, d_loss 1.30459 accuracy 0.6085\n",
      "Training in progress @ epoch 347.917, g_loss 0.856437, d_loss 1.28513 accuracy 0.636\n",
      "Training in progress @ epoch 348.333, g_loss 0.866209, d_loss 1.26893 accuracy 0.633\n",
      "Training in progress @ epoch 348.75, g_loss 0.933062, d_loss 1.27673 accuracy 0.6245\n",
      "Training in progress @ epoch 349.167, g_loss 0.885815, d_loss 1.30075 accuracy 0.615\n",
      "Training in progress @ epoch 349.583, g_loss 0.819119, d_loss 1.27024 accuracy 0.64\n",
      "Training in progress @ epoch 350, g_loss 0.876222, d_loss 1.31716 accuracy 0.604\n",
      "Training in progress @ epoch 350.417, g_loss 0.85009, d_loss 1.29407 accuracy 0.6175\n",
      "Training in progress @ epoch 350.833, g_loss 0.801547, d_loss 1.32589 accuracy 0.5945\n",
      "Training in progress @ epoch 351.25, g_loss 0.836683, d_loss 1.31685 accuracy 0.6055\n",
      "Training in progress @ epoch 351.667, g_loss 0.862697, d_loss 1.29989 accuracy 0.619\n",
      "Training in progress @ epoch 352.083, g_loss 0.918542, d_loss 1.28254 accuracy 0.626\n",
      "Training in progress @ epoch 352.5, g_loss 0.829431, d_loss 1.27918 accuracy 0.6285\n",
      "Training in progress @ epoch 352.917, g_loss 0.807148, d_loss 1.29263 accuracy 0.608\n",
      "Training in progress @ epoch 353.333, g_loss 0.856472, d_loss 1.28319 accuracy 0.6305\n",
      "Training in progress @ epoch 353.75, g_loss 0.814797, d_loss 1.27343 accuracy 0.634\n",
      "Training in progress @ epoch 354.167, g_loss 0.828727, d_loss 1.28907 accuracy 0.621\n",
      "Training in progress @ epoch 354.583, g_loss 0.789333, d_loss 1.32806 accuracy 0.596\n",
      "Training in progress @ epoch 355, g_loss 0.771073, d_loss 1.29715 accuracy 0.6215\n",
      "Training in progress @ epoch 355.417, g_loss 0.812731, d_loss 1.2902 accuracy 0.613\n",
      "Training in progress @ epoch 355.833, g_loss 0.861646, d_loss 1.29566 accuracy 0.61\n",
      "Training in progress @ epoch 356.25, g_loss 0.878418, d_loss 1.28993 accuracy 0.6075\n",
      "Training in progress @ epoch 356.667, g_loss 0.823509, d_loss 1.28459 accuracy 0.627\n",
      "Training in progress @ epoch 357.083, g_loss 0.898373, d_loss 1.29035 accuracy 0.622\n",
      "Training in progress @ epoch 357.5, g_loss 0.908647, d_loss 1.2658 accuracy 0.6355\n",
      "Training in progress @ epoch 357.917, g_loss 0.907334, d_loss 1.31294 accuracy 0.6125\n",
      "Training in progress @ epoch 358.333, g_loss 0.8913, d_loss 1.28637 accuracy 0.643\n",
      "Training in progress @ epoch 358.75, g_loss 0.869665, d_loss 1.27447 accuracy 0.6195\n",
      "Training in progress @ epoch 359.167, g_loss 0.795093, d_loss 1.29509 accuracy 0.612\n",
      "Training in progress @ epoch 359.583, g_loss 0.859704, d_loss 1.28327 accuracy 0.6245\n",
      "Training in progress @ epoch 360, g_loss 0.831987, d_loss 1.30036 accuracy 0.618\n",
      "Training in progress @ epoch 360.417, g_loss 0.815869, d_loss 1.27866 accuracy 0.645\n",
      "Training in progress @ epoch 360.833, g_loss 0.886937, d_loss 1.27602 accuracy 0.6355\n",
      "Training in progress @ epoch 361.25, g_loss 0.890177, d_loss 1.26077 accuracy 0.6375\n",
      "Training in progress @ epoch 361.667, g_loss 0.828834, d_loss 1.29339 accuracy 0.617\n",
      "Training in progress @ epoch 362.083, g_loss 0.85407, d_loss 1.32146 accuracy 0.6\n",
      "Training in progress @ epoch 362.5, g_loss 0.819863, d_loss 1.275 accuracy 0.624\n",
      "Training in progress @ epoch 362.917, g_loss 0.82335, d_loss 1.28535 accuracy 0.6125\n",
      "Training in progress @ epoch 363.333, g_loss 0.856132, d_loss 1.29866 accuracy 0.6165\n",
      "Training in progress @ epoch 363.75, g_loss 0.862848, d_loss 1.30357 accuracy 0.612\n",
      "Training in progress @ epoch 364.167, g_loss 0.816662, d_loss 1.28358 accuracy 0.634\n",
      "Training in progress @ epoch 364.583, g_loss 0.890751, d_loss 1.27558 accuracy 0.632\n",
      "Training in progress @ epoch 365, g_loss 0.848016, d_loss 1.29768 accuracy 0.6145\n",
      "Training in progress @ epoch 365.417, g_loss 0.814146, d_loss 1.26093 accuracy 0.643\n"
     ]
    },
    {
     "name": "stdout",
     "output_type": "stream",
     "text": [
      "Training in progress @ epoch 365.833, g_loss 0.89733, d_loss 1.27781 accuracy 0.6185\n",
      "Training in progress @ epoch 366.25, g_loss 0.862817, d_loss 1.3194 accuracy 0.587\n",
      "Training in progress @ epoch 366.667, g_loss 0.890796, d_loss 1.28924 accuracy 0.626\n",
      "Training in progress @ epoch 367.083, g_loss 0.938865, d_loss 1.27158 accuracy 0.638\n",
      "Training in progress @ epoch 367.5, g_loss 0.793797, d_loss 1.28313 accuracy 0.622\n",
      "Training in progress @ epoch 367.917, g_loss 0.894148, d_loss 1.30095 accuracy 0.6085\n",
      "Training in progress @ epoch 368.333, g_loss 0.832671, d_loss 1.27555 accuracy 0.64\n",
      "Training in progress @ epoch 368.75, g_loss 0.841757, d_loss 1.29312 accuracy 0.6175\n",
      "Training in progress @ epoch 369.167, g_loss 0.812544, d_loss 1.3142 accuracy 0.608\n",
      "Training in progress @ epoch 369.583, g_loss 0.843242, d_loss 1.31117 accuracy 0.6135\n",
      "Training in progress @ epoch 370, g_loss 0.839201, d_loss 1.32909 accuracy 0.604\n",
      "Training in progress @ epoch 370.417, g_loss 0.845323, d_loss 1.2968 accuracy 0.6125\n",
      "Training in progress @ epoch 370.833, g_loss 0.787184, d_loss 1.26544 accuracy 0.6385\n",
      "Training in progress @ epoch 371.25, g_loss 0.845313, d_loss 1.27401 accuracy 0.631\n",
      "Training in progress @ epoch 371.667, g_loss 0.827827, d_loss 1.30782 accuracy 0.619\n",
      "Training in progress @ epoch 372.083, g_loss 0.772012, d_loss 1.27921 accuracy 0.618\n",
      "Training in progress @ epoch 372.5, g_loss 0.763469, d_loss 1.28264 accuracy 0.633\n",
      "Training in progress @ epoch 372.917, g_loss 0.824544, d_loss 1.30334 accuracy 0.6085\n",
      "Training in progress @ epoch 373.333, g_loss 0.832641, d_loss 1.29899 accuracy 0.614\n"
     ]
    },
    {
     "ename": "KeyboardInterrupt",
     "evalue": "",
     "output_type": "error",
     "traceback": [
      "\u001b[0;31m\u001b[0m",
      "\u001b[0;31mKeyboardInterrupt\u001b[0mTraceback (most recent call last)",
      "\u001b[0;32m<ipython-input-25-6ca15fcab232>\u001b[0m in \u001b[0;36m<module>\u001b[0;34m()\u001b[0m\n\u001b[1;32m     31\u001b[0m             \u001b[0;32mif\u001b[0m \u001b[0mINCLUDE_NOISE\u001b[0m\u001b[0;34m:\u001b[0m\u001b[0;34m\u001b[0m\u001b[0m\n\u001b[1;32m     32\u001b[0m                 \u001b[0mreal_noise_addition\u001b[0m \u001b[0;34m=\u001b[0m \u001b[0mnumpy\u001b[0m\u001b[0;34m.\u001b[0m\u001b[0mrandom\u001b[0m\u001b[0;34m.\u001b[0m\u001b[0mnormal\u001b[0m\u001b[0;34m(\u001b[0m\u001b[0mscale\u001b[0m\u001b[0;34m=\u001b[0m\u001b[0msigma\u001b[0m\u001b[0;34m,\u001b[0m\u001b[0msize\u001b[0m\u001b[0;34m=\u001b[0m\u001b[0;34m(\u001b[0m\u001b[0mBATCH_SIZE\u001b[0m\u001b[0;34m,\u001b[0m\u001b[0;36m28\u001b[0m\u001b[0;34m*\u001b[0m\u001b[0;36m28\u001b[0m\u001b[0;34m)\u001b[0m\u001b[0;34m)\u001b[0m\u001b[0;34m\u001b[0m\u001b[0m\n\u001b[0;32m---> 33\u001b[0;31m                 \u001b[0mfake_noise_addition\u001b[0m \u001b[0;34m=\u001b[0m \u001b[0mnumpy\u001b[0m\u001b[0;34m.\u001b[0m\u001b[0mrandom\u001b[0m\u001b[0;34m.\u001b[0m\u001b[0mnormal\u001b[0m\u001b[0;34m(\u001b[0m\u001b[0mscale\u001b[0m\u001b[0;34m=\u001b[0m\u001b[0msigma\u001b[0m\u001b[0;34m,\u001b[0m\u001b[0msize\u001b[0m\u001b[0;34m=\u001b[0m\u001b[0;34m(\u001b[0m\u001b[0mBATCH_SIZE\u001b[0m\u001b[0;34m,\u001b[0m\u001b[0;36m28\u001b[0m\u001b[0;34m*\u001b[0m\u001b[0;36m28\u001b[0m\u001b[0;34m)\u001b[0m\u001b[0;34m)\u001b[0m\u001b[0;34m\u001b[0m\u001b[0m\n\u001b[0m\u001b[1;32m     34\u001b[0m             \u001b[0;32melse\u001b[0m\u001b[0;34m:\u001b[0m\u001b[0;34m\u001b[0m\u001b[0m\n\u001b[1;32m     35\u001b[0m                 \u001b[0mreal_noise_addition\u001b[0m \u001b[0;34m=\u001b[0m \u001b[0mnumpy\u001b[0m\u001b[0;34m.\u001b[0m\u001b[0mzeros\u001b[0m\u001b[0;34m(\u001b[0m\u001b[0;34m(\u001b[0m\u001b[0mBATCH_SIZE\u001b[0m\u001b[0;34m,\u001b[0m \u001b[0;36m28\u001b[0m\u001b[0;34m*\u001b[0m\u001b[0;36m28\u001b[0m\u001b[0;34m)\u001b[0m\u001b[0;34m)\u001b[0m\u001b[0;34m\u001b[0m\u001b[0m\n",
      "\u001b[0;31mKeyboardInterrupt\u001b[0m: "
     ]
    }
   ],
   "source": [
    "with tf.device(default_device):\n",
    "    with g.as_default():\n",
    "        sess = tf.InteractiveSession()\n",
    "        if not RESTORE:\n",
    "            sess.run(tf.global_variables_initializer())\n",
    "            train_writer.add_graph(sess.graph)\n",
    "            saver = tf.train.Saver()\n",
    "        else: \n",
    "            latest_checkpoint = tf.train.latest_checkpoint(LOGDIR+\"/checkpoints/\")\n",
    "            print \"Restoring model from {}\".format(latest_checkpoint)\n",
    "            saver = tf.train.Saver()\n",
    "            saver.restore(sess, latest_checkpoint)\n",
    "\n",
    "\n",
    "\n",
    "        print \"Begin training ...\"\n",
    "        # Run training loop\n",
    "        for i in xrange(50000):\n",
    "            step = sess.run(global_step)\n",
    "\n",
    "            # Receive data (this will hang if IO thread is still running = this\n",
    "            # will wait for thread to finish & receive data)\n",
    "            epoch = (1.0*i*BATCH_SIZE) / 60000.\n",
    "            sigma = max(0.75*(10. - epoch) / (10), 0.05)\n",
    "            \n",
    "            # Update the generator:\n",
    "            # Prepare the input to the networks:\n",
    "            fake_input = numpy.random.normal(loc=0, scale=1, size=(BATCH_SIZE, RANDOM_INPUT_DIMENSIONALITY))\n",
    "            real_data, label = mnist.train.next_batch(BATCH_SIZE)\n",
    "            real_data = 2*(real_data - 0.5)\n",
    "            if INCLUDE_NOISE:\n",
    "                real_noise_addition = numpy.random.normal(scale=sigma,size=(BATCH_SIZE,28*28))\n",
    "                fake_noise_addition = numpy.random.normal(scale=sigma,size=(BATCH_SIZE,28*28))\n",
    "            else:\n",
    "                real_noise_addition = numpy.zeros((BATCH_SIZE, 28*28))\n",
    "                fake_noise_addition = numpy.zeros((BATCH_SIZE, 28*28))\n",
    "\n",
    "            # Update the discriminator:\n",
    "            [generated_mnist, _] = sess.run([fake_images, \n",
    "                                            discriminator_optimizer], \n",
    "                                            feed_dict = {noise_tensor : fake_input,\n",
    "                                                         real_flat : real_data,\n",
    "                                                         real_noise: real_noise_addition,\n",
    "                                                         fake_noise: fake_noise_addition})\n",
    "\n",
    "            # Update the generator:\n",
    "            fake_input = numpy.random.normal(loc=0, scale=1, size=(BATCH_SIZE, RANDOM_INPUT_DIMENSIONALITY))\n",
    "            if INCLUDE_NOISE:\n",
    "                fake_noise_addition = numpy.random.normal(scale=sigma,size=(BATCH_SIZE,28*28))\n",
    "            else:\n",
    "                fake_noise_addition = numpy.zeros((BATCH_SIZE, 28*28))\n",
    "\n",
    "            \n",
    "            [ _ ] = sess.run([generator_optimizer], \n",
    "                feed_dict = {noise_tensor: fake_input,\n",
    "                             real_flat : real_data,\n",
    "                             real_noise: real_noise_addition,\n",
    "                             fake_noise: fake_noise_addition})\n",
    "            \n",
    "            # Run a summary step:\n",
    "            [summary, g_l, d_l, acc] = sess.run(\n",
    "                [merged_summary, g_loss, d_loss_total, total_accuracy],\n",
    "                feed_dict = {noise_tensor : fake_input,\n",
    "                             real_flat : real_data,\n",
    "                             real_noise: real_noise_addition,\n",
    "                             fake_noise: fake_noise_addition})\n",
    "\n",
    "\n",
    "            train_writer.add_summary(summary, step)\n",
    "\n",
    "\n",
    "            if step != 0 and step % 500 == 0:\n",
    "                saver.save(\n",
    "                    sess,\n",
    "                    LOGDIR+\"/checkpoints/save\",\n",
    "                    global_step=step)\n",
    "\n",
    "\n",
    "            # train_writer.add_summary(summary, i)\n",
    "            # sys.stdout.write('Training in progress @ step %d\\n' % (step))\n",
    "            if step % 50 == 0:\n",
    "                print 'Training in progress @ epoch %g, g_loss %g, d_loss %g accuracy %g' % (epoch, g_l, d_l, acc)\n"
   ]
  },
  {
   "cell_type": "markdown",
   "metadata": {},
   "source": [
    "As a last step, let's load this network back into memory and generate a few fake images for visualization.  As you'll see, this network does \"OK\" but not amazingly well.  In the next post, we'll see a deep convolutional network that does much better at generating images."
   ]
  },
  {
   "cell_type": "code",
   "execution_count": 28,
   "metadata": {},
   "outputs": [
    {
     "name": "stdout",
     "output_type": "stream",
     "text": [
      "Restoring model from ./mnist_gan_logs/lr_0.0001_include_noise_True/checkpoints/save-44500\n",
      "INFO:tensorflow:Restoring parameters from ./mnist_gan_logs/lr_0.0001_include_noise_True/checkpoints/save-44500\n"
     ]
    }
   ],
   "source": [
    "with tf.device(default_device):\n",
    "    with g.as_default():\n",
    "        sess = tf.InteractiveSession()\n",
    "        latest_checkpoint = tf.train.latest_checkpoint(LOGDIR+\"/checkpoints/\")\n",
    "        print \"Restoring model from {}\".format(latest_checkpoint)\n",
    "        saver = tf.train.Saver()\n",
    "        saver.restore(sess, latest_checkpoint)\n",
    "\n",
    "\n",
    "        # We only need to make fake data and run it through the 'fake_images' tensor to see the output:\n",
    "        \n",
    "        fake_input = numpy.random.uniform(-1, 1, (BATCH_SIZE, 10*10))\n",
    "        fake_noise_addition = numpy.zeros((BATCH_SIZE, 28*28))\n",
    "        [generated_images] = sess.run(\n",
    "                [fake_images], \n",
    "                feed_dict = {noise_tensor: fake_input,\n",
    "                             fake_noise: fake_noise_addition})\n"
   ]
  },
  {
   "cell_type": "markdown",
   "metadata": {},
   "source": [
    "Reshape to make it easier to draw:"
   ]
  },
  {
   "cell_type": "code",
   "execution_count": 29,
   "metadata": {
    "collapsed": true
   },
   "outputs": [],
   "source": [
    "generated_images = numpy.reshape(generated_images, (-1, 28, 28))"
   ]
  },
  {
   "cell_type": "code",
   "execution_count": 38,
   "metadata": {},
   "outputs": [
    {
     "data": {
      "image/png": "[encoded data removed]",
      "text/plain": [
       "<matplotlib.figure.Figure at 0x7f3b11241090>"
      ]
     },
     "metadata": {},
     "output_type": "display_data"
    }
   ],
   "source": [
    "# Tile together lots of digits to see how the network is doing:\n",
    "final_image = numpy.zeros((280, 280))\n",
    "for i in range(10):\n",
    "    for j in range(10):\n",
    "        index = numpy.random.randint(BATCH_SIZE)\n",
    "        final_image[i*28:(i+1)*28, j*28:(j+1)*28] = generated_images[index].reshape(28, 28)\n",
    "        \n",
    "fig = plt.figure(figsize=(10,10))\n",
    "plt.imshow(final_image, cmap=\"Greys\", interpolation=\"none\")\n",
    "plt.show()"
   ]
  },
  {
   "cell_type": "markdown",
   "metadata": {},
   "source": [
    "Well ... It's OK.  Some of them look like real digits!  Others are less convincing.  But, this at least demonstrates the basics of generative adversarial networks."
   ]
  },
  {
   "cell_type": "code",
   "execution_count": null,
   "metadata": {
    "collapsed": true
   },
   "outputs": [],
   "source": []
  }
 ],
 "metadata": {
  "kernelspec": {
   "display_name": "Python 2",
   "language": "python",
   "name": "python2"
  },
  "language_info": {
   "codemirror_mode": {
    "name": "ipython",
    "version": 2
   },
   "file_extension": ".py",
   "mimetype": "text/x-python",
   "name": "python",
   "nbconvert_exporter": "python",
   "pygments_lexer": "ipython2",
   "version": "2.7.6"
  }
 },
 "nbformat": 4,
 "nbformat_minor": 2
}
